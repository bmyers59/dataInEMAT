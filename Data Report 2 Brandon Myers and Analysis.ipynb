{
 "cells": [
  {
   "cell_type": "markdown",
   "id": "ea18cd30-d535-461e-a5c3-edbf5fbc7c35",
   "metadata": {},
   "source": [
    "<h1>Testing the correlation between track popularity and whether the track is a solo or has a feature</h1>\n",
    "<h2>Brandon Myers</h2>\n",
    "<h3>10-8-24</h3>\n",
    "<strong>I believe that on average, a song with a feature from another artist has a higher popularity score according to spotify.</strong>\n",
    "This hypothesis could prove that if artists want to reach more people, they should feature other artists on their tracks."
   ]
  },
  {
   "cell_type": "markdown",
   "id": "d550803b-39a0-40a9-bbb6-afac76c7a530",
   "metadata": {},
   "source": [
    "To test this hypothesis I will need to use the Spotify API to get album details, as well as individual track characteristics.\n",
    "For this I will use the endpoints (https://api.spotify.com/v1/albums/{id}), (https://api.spotify.com/v1/albums/{id}/tracks), and (https://api.spotify.com/v1/tracks?ids={ids}) <br>\n",
    "The first endpoint I'll use to get album details, such as the title and artist name.<br>\n",
    "The second endpoint I'll use to get the individual track ids.<br>\n",
    "The last endpoint I'll use to get individual track info from the album, such as popularity score, artists featured, etc.<br>\n"
   ]
  },
  {
   "cell_type": "markdown",
   "id": "8a47fc77-104c-4d15-a540-922b126fcbdf",
   "metadata": {},
   "source": [
    "I plan to get the average popularity of both solo tracks and feature tracks from a given album. I'll give a list of album ids, and then a dataframe will be made showing the previously discussed characteristics. \n",
    "Because I'm handpicking the albums for this, I have to make sure they are fit to be added to the data pool. For the albums I've selected, I've chosen a variety of music genres, and I don't use an artist more than once. Chosen albums must have at least two tracks of each type, solos and features. This ensures I can always get an average of each type of popularity score. Also, it seems that when getting tracks from an album, the api can only handle up to 20, so that should be taken note of. I tried to include albums with less than 20 tracks, but that's easier said than done. Also, popularity is VERY different from artist to artist, I've included bigger and smaller ones for the sake of variety. When I compare popularity, I do it relatively to other tracks in the same album, rather than the rest of the dataset."
   ]
  },
  {
   "cell_type": "markdown",
   "id": "7a54852c-0b97-4adf-b9ce-7614e148f1a8",
   "metadata": {},
   "source": [
    "First I'll import the required libraries"
   ]
  },
  {
   "cell_type": "code",
   "execution_count": 2,
   "id": "bed853bd-dc77-4998-9d0b-0c6309138d9f",
   "metadata": {},
   "outputs": [],
   "source": [
    "import pandas as pd\n",
    "import json\n",
    "import requests\n",
    "import base64\n",
    "import urllib"
   ]
  },
  {
   "cell_type": "markdown",
   "id": "f1d4e4dc-35b9-48d5-a39c-9e1b0fe0ef0b",
   "metadata": {},
   "source": [
    "Now I'll make a function for getting a session token from Spotify so I can make API calls later. I lifted this code from the previous notebooks we did in class."
   ]
  },
  {
   "cell_type": "code",
   "execution_count": 3,
   "id": "3e7c8ead-8997-4e00-b197-95e779446abb",
   "metadata": {},
   "outputs": [],
   "source": [
    "def get_session_token(SessionID, SessionKey):\n",
    "    url = 'https://accounts.spotify.com/api/token'\n",
    "    data = {'grant_type':'client_credentials'}\n",
    "    encoded_key = base64.b64encode(str(SessionID+ \":\" + SessionKey).encode(\"ascii\"))\n",
    "    header = {'Authorization': 'Basic {}'.format(encoded_key.decode(\"ascii\"))}\n",
    "    response = requests.post(url, data = data, headers = header)\n",
    "    print(response.status_code)\n",
    "    return response.json()['access_token']"
   ]
  },
  {
   "cell_type": "markdown",
   "id": "86be6ba2-1344-4f5b-9162-e3ed5694ca5f",
   "metadata": {},
   "source": [
    "Here I'll make the access_token variable to use later in the header for api calls"
   ]
  },
  {
   "cell_type": "code",
   "execution_count": 4,
   "id": "f5858dcc-a457-4c9a-bc62-fb2f45139c01",
   "metadata": {},
   "outputs": [
    {
     "name": "stdout",
     "output_type": "stream",
     "text": [
      "200\n"
     ]
    }
   ],
   "source": [
    "app_key = pd.read_csv(\"key.txt\")\n",
    "access_token = get_session_token(app_key[\"Client_ID\"].iloc[0], app_key[\"Client_Secret\"].iloc[0])"
   ]
  },
  {
   "cell_type": "markdown",
   "id": "55efe348-6d2a-4f98-8cbb-293c09d115a8",
   "metadata": {},
   "source": [
    "Here I have the function for making an api call, also from previous in class notebooks"
   ]
  },
  {
   "cell_type": "code",
   "execution_count": 5,
   "id": "cc0060ac-7302-446f-90d5-68a78c2a81df",
   "metadata": {},
   "outputs": [],
   "source": [
    "def api_call(endpoint_url, api_header):\n",
    "    response = requests.get(endpoint_url, headers = api_header)\n",
    "    print(response.status_code)\n",
    "    return response.json()"
   ]
  },
  {
   "cell_type": "code",
   "execution_count": 6,
   "id": "f511700f-f80a-4129-a1ae-bd6a2a3d0cfc",
   "metadata": {},
   "outputs": [],
   "source": [
    "session_header = {'Authorization': 'Bearer {}'.format(access_token)}"
   ]
  },
  {
   "cell_type": "markdown",
   "id": "0ff41aaf-d88c-4617-b571-8ab54f3285fe",
   "metadata": {},
   "source": [
    "Here I'll see what kind of info I can get from this api call. <br>\n",
    "I used the keys method to get to 'items' which shows me what info I can get from each track. This won't be enough though, I need to use another endpoint for things like popularity values. The only thing I'll use from this endpoint is each ID for the individual tracks."
   ]
  },
  {
   "cell_type": "code",
   "execution_count": 7,
   "id": "317752a9-d3f5-4a6a-ae68-5c1616b59642",
   "metadata": {},
   "outputs": [
    {
     "name": "stdout",
     "output_type": "stream",
     "text": [
      "200\n"
     ]
    },
    {
     "data": {
      "text/html": [
       "<div>\n",
       "<style scoped>\n",
       "    .dataframe tbody tr th:only-of-type {\n",
       "        vertical-align: middle;\n",
       "    }\n",
       "\n",
       "    .dataframe tbody tr th {\n",
       "        vertical-align: top;\n",
       "    }\n",
       "\n",
       "    .dataframe thead th {\n",
       "        text-align: right;\n",
       "    }\n",
       "</style>\n",
       "<table border=\"1\" class=\"dataframe\">\n",
       "  <thead>\n",
       "    <tr style=\"text-align: right;\">\n",
       "      <th></th>\n",
       "      <th>artists</th>\n",
       "      <th>available_markets</th>\n",
       "      <th>disc_number</th>\n",
       "      <th>duration_ms</th>\n",
       "      <th>explicit</th>\n",
       "      <th>external_urls</th>\n",
       "      <th>href</th>\n",
       "      <th>id</th>\n",
       "      <th>name</th>\n",
       "      <th>preview_url</th>\n",
       "      <th>track_number</th>\n",
       "      <th>type</th>\n",
       "      <th>uri</th>\n",
       "      <th>is_local</th>\n",
       "    </tr>\n",
       "  </thead>\n",
       "  <tbody>\n",
       "    <tr>\n",
       "      <th>0</th>\n",
       "      <td>[{'external_urls': {'spotify': 'https://open.s...</td>\n",
       "      <td>[AR, AU, AT, BE, BO, BR, BG, CA, CL, CO, CR, C...</td>\n",
       "      <td>1</td>\n",
       "      <td>225985</td>\n",
       "      <td>True</td>\n",
       "      <td>{'spotify': 'https://open.spotify.com/track/2d...</td>\n",
       "      <td>https://api.spotify.com/v1/tracks/2dyAiC9k6s0m...</td>\n",
       "      <td>2dyAiC9k6s0mWnMSQRQJGd</td>\n",
       "      <td>Psycho CEO</td>\n",
       "      <td>None</td>\n",
       "      <td>1</td>\n",
       "      <td>track</td>\n",
       "      <td>spotify:track:2dyAiC9k6s0mWnMSQRQJGd</td>\n",
       "      <td>False</td>\n",
       "    </tr>\n",
       "    <tr>\n",
       "      <th>1</th>\n",
       "      <td>[{'external_urls': {'spotify': 'https://open.s...</td>\n",
       "      <td>[AR, AU, AT, BE, BO, BR, BG, CA, CL, CO, CR, C...</td>\n",
       "      <td>1</td>\n",
       "      <td>264569</td>\n",
       "      <td>True</td>\n",
       "      <td>{'spotify': 'https://open.spotify.com/track/3b...</td>\n",
       "      <td>https://api.spotify.com/v1/tracks/3bDH7eIQ84QW...</td>\n",
       "      <td>3bDH7eIQ84QWdBeWwffUZD</td>\n",
       "      <td>Power Trip</td>\n",
       "      <td>None</td>\n",
       "      <td>2</td>\n",
       "      <td>track</td>\n",
       "      <td>spotify:track:3bDH7eIQ84QWdBeWwffUZD</td>\n",
       "      <td>False</td>\n",
       "    </tr>\n",
       "    <tr>\n",
       "      <th>2</th>\n",
       "      <td>[{'external_urls': {'spotify': 'https://open.s...</td>\n",
       "      <td>[AR, AU, AT, BE, BO, BR, BG, CA, CL, CO, CR, C...</td>\n",
       "      <td>1</td>\n",
       "      <td>170847</td>\n",
       "      <td>True</td>\n",
       "      <td>{'spotify': 'https://open.spotify.com/track/5N...</td>\n",
       "      <td>https://api.spotify.com/v1/tracks/5NAOhPAZ57eF...</td>\n",
       "      <td>5NAOhPAZ57eFAXr3qatS6i</td>\n",
       "      <td>Breathe</td>\n",
       "      <td>None</td>\n",
       "      <td>3</td>\n",
       "      <td>track</td>\n",
       "      <td>spotify:track:5NAOhPAZ57eFAXr3qatS6i</td>\n",
       "      <td>False</td>\n",
       "    </tr>\n",
       "    <tr>\n",
       "      <th>3</th>\n",
       "      <td>[{'external_urls': {'spotify': 'https://open.s...</td>\n",
       "      <td>[AR, AU, AT, BE, BO, BR, BG, CA, CL, CO, CR, C...</td>\n",
       "      <td>1</td>\n",
       "      <td>165400</td>\n",
       "      <td>True</td>\n",
       "      <td>{'spotify': 'https://open.spotify.com/track/7K...</td>\n",
       "      <td>https://api.spotify.com/v1/tracks/7KdQOqCspznO...</td>\n",
       "      <td>7KdQOqCspznOjPDT0KAnuq</td>\n",
       "      <td>Morë</td>\n",
       "      <td>None</td>\n",
       "      <td>4</td>\n",
       "      <td>track</td>\n",
       "      <td>spotify:track:7KdQOqCspznOjPDT0KAnuq</td>\n",
       "      <td>False</td>\n",
       "    </tr>\n",
       "    <tr>\n",
       "      <th>4</th>\n",
       "      <td>[{'external_urls': {'spotify': 'https://open.s...</td>\n",
       "      <td>[AR, AU, AT, BE, BO, BR, BG, CA, CL, CO, CR, C...</td>\n",
       "      <td>1</td>\n",
       "      <td>178285</td>\n",
       "      <td>True</td>\n",
       "      <td>{'spotify': 'https://open.spotify.com/track/5B...</td>\n",
       "      <td>https://api.spotify.com/v1/tracks/5Bno6wFa22tR...</td>\n",
       "      <td>5Bno6wFa22tRbFUwh4iZdk</td>\n",
       "      <td>Bought The Earth</td>\n",
       "      <td>None</td>\n",
       "      <td>5</td>\n",
       "      <td>track</td>\n",
       "      <td>spotify:track:5Bno6wFa22tRbFUwh4iZdk</td>\n",
       "      <td>False</td>\n",
       "    </tr>\n",
       "  </tbody>\n",
       "</table>\n",
       "</div>"
      ],
      "text/plain": [
       "                                             artists  \\\n",
       "0  [{'external_urls': {'spotify': 'https://open.s...   \n",
       "1  [{'external_urls': {'spotify': 'https://open.s...   \n",
       "2  [{'external_urls': {'spotify': 'https://open.s...   \n",
       "3  [{'external_urls': {'spotify': 'https://open.s...   \n",
       "4  [{'external_urls': {'spotify': 'https://open.s...   \n",
       "\n",
       "                                   available_markets  disc_number  \\\n",
       "0  [AR, AU, AT, BE, BO, BR, BG, CA, CL, CO, CR, C...            1   \n",
       "1  [AR, AU, AT, BE, BO, BR, BG, CA, CL, CO, CR, C...            1   \n",
       "2  [AR, AU, AT, BE, BO, BR, BG, CA, CL, CO, CR, C...            1   \n",
       "3  [AR, AU, AT, BE, BO, BR, BG, CA, CL, CO, CR, C...            1   \n",
       "4  [AR, AU, AT, BE, BO, BR, BG, CA, CL, CO, CR, C...            1   \n",
       "\n",
       "   duration_ms  explicit                                      external_urls  \\\n",
       "0       225985      True  {'spotify': 'https://open.spotify.com/track/2d...   \n",
       "1       264569      True  {'spotify': 'https://open.spotify.com/track/3b...   \n",
       "2       170847      True  {'spotify': 'https://open.spotify.com/track/5N...   \n",
       "3       165400      True  {'spotify': 'https://open.spotify.com/track/7K...   \n",
       "4       178285      True  {'spotify': 'https://open.spotify.com/track/5B...   \n",
       "\n",
       "                                                href                      id  \\\n",
       "0  https://api.spotify.com/v1/tracks/2dyAiC9k6s0m...  2dyAiC9k6s0mWnMSQRQJGd   \n",
       "1  https://api.spotify.com/v1/tracks/3bDH7eIQ84QW...  3bDH7eIQ84QWdBeWwffUZD   \n",
       "2  https://api.spotify.com/v1/tracks/5NAOhPAZ57eF...  5NAOhPAZ57eFAXr3qatS6i   \n",
       "3  https://api.spotify.com/v1/tracks/7KdQOqCspznO...  7KdQOqCspznOjPDT0KAnuq   \n",
       "4  https://api.spotify.com/v1/tracks/5Bno6wFa22tR...  5Bno6wFa22tRbFUwh4iZdk   \n",
       "\n",
       "               name preview_url  track_number   type  \\\n",
       "0        Psycho CEO        None             1  track   \n",
       "1        Power Trip        None             2  track   \n",
       "2           Breathe        None             3  track   \n",
       "3              Morë        None             4  track   \n",
       "4  Bought The Earth        None             5  track   \n",
       "\n",
       "                                    uri  is_local  \n",
       "0  spotify:track:2dyAiC9k6s0mWnMSQRQJGd     False  \n",
       "1  spotify:track:3bDH7eIQ84QWdBeWwffUZD     False  \n",
       "2  spotify:track:5NAOhPAZ57eFAXr3qatS6i     False  \n",
       "3  spotify:track:7KdQOqCspznOjPDT0KAnuq     False  \n",
       "4  spotify:track:5Bno6wFa22tRbFUwh4iZdk     False  "
      ]
     },
     "execution_count": 7,
     "metadata": {},
     "output_type": "execute_result"
    }
   ],
   "source": [
    "testalbum = api_call('https://api.spotify.com/v1/albums/1jXYc5gip5tqCTDOotfY5L/tracks', session_header)\n",
    "testalbum.keys()\n",
    "test_df = pd.DataFrame(testalbum['items'])\n",
    "test_df.head()"
   ]
  },
  {
   "cell_type": "markdown",
   "id": "d5444b6c-dbf2-4d19-94f0-fe4ad849468b",
   "metadata": {},
   "source": [
    "I know I want to make a function to do this automatically later, but for now I need to figure out what that would look like, and if it would work. I use the ids from the previous dataframe to make a list, to make an api call to receive all the tracks from an album at once, but this time, with greater detail. Here I'll get an average of the popularity of both solos and features"
   ]
  },
  {
   "cell_type": "code",
   "execution_count": 8,
   "id": "efa90f12-2742-47a3-b49a-fa8f676e26f7",
   "metadata": {},
   "outputs": [
    {
     "name": "stdout",
     "output_type": "stream",
     "text": [
      "200\n",
      "55.5\n",
      "54.22222222222222\n"
     ]
    }
   ],
   "source": [
    "track_ids = ','.join(test_df['id'].to_list())\n",
    "\n",
    "track_list = api_call('https://api.spotify.com/v1/tracks?ids=' + track_ids, session_header)\n",
    "track_list_df = pd.DataFrame(track_list['tracks'])\n",
    "\n",
    "average_solo = int();\n",
    "average_ft = int();\n",
    "solo_ct = 0;\n",
    "ft_ct = 0;\n",
    "#I figured I could use len(track_list_df['artists'][x] to see how many elements were in the object,\n",
    "#I'll use this to determine whether or not a track is a solo or has a feature\n",
    "\n",
    "for x in range(len(track_list_df)): \n",
    "    if len(track_list_df['artists'][x]) > 1:\n",
    "        average_ft+= track_list_df['popularity'][x]\n",
    "        ft_ct+= 1\n",
    "    else:\n",
    "        average_solo+= track_list_df['popularity'][x]\n",
    "        solo_ct+= 1\n",
    "\n",
    "average_ft/= ft_ct\n",
    "average_solo/= solo_ct\n",
    "\n",
    "print(average_ft)\n",
    "print(average_solo)\n",
    "\n"
   ]
  },
  {
   "cell_type": "markdown",
   "id": "c703ab5e-9469-4921-a6c9-47f54c640ba9",
   "metadata": {},
   "source": [
    "Now I'll use what I just tested to make a proper function that takes an album ID as an input, to make compiling a set of data much easier."
   ]
  },
  {
   "cell_type": "code",
   "execution_count": 9,
   "id": "7d3ef2ed-0590-4e23-b133-32eb5ee0f9cb",
   "metadata": {},
   "outputs": [],
   "source": [
    "def average(albumid):\n",
    "    #I'll use this to get the track ids from album like before\n",
    "    album = api_call('https://api.spotify.com/v1/albums/' + albumid + '/tracks', session_header)\n",
    "    album_df = pd.DataFrame(album['items'])\n",
    "    ids = ','.join(album_df['id'].to_list())\n",
    "\n",
    "    #I'll use this endpoint to get the album title and artist name\n",
    "    album2 = api_call('https://api.spotify.com/v1/albums/' + albumid, session_header)\n",
    "    artist = pd.DataFrame(album2['artists'])['name'][0]\n",
    "    title = album2['name']\n",
    "    \n",
    "    #This gives me the list of tracks from the album and all their details\n",
    "    tracks = api_call('https://api.spotify.com/v1/tracks?ids=' + ids, session_header)\n",
    "    tracks_df = pd.DataFrame(tracks['tracks'])\n",
    "\n",
    "    #I'll initialize some variables because I'll be adding to them in the loop\n",
    "    average_solo = int();\n",
    "    average_ft = int();\n",
    "    solo_ct = 0;\n",
    "    ft_ct = 0;\n",
    "\n",
    "    #Now I'll loop through the tracks, adding up the popularities based on what kind of song it is,\n",
    "    #as well as how many of each kind appear\n",
    "    for x in range(len(tracks_df)): \n",
    "        if len(tracks_df['artists'][x]) > 1:\n",
    "            average_ft+= tracks_df['popularity'][x]\n",
    "            ft_ct+= 1\n",
    "        else:\n",
    "            average_solo+= tracks_df['popularity'][x]\n",
    "            solo_ct+= 1\n",
    "\n",
    "    #Now because I need the average, I'll divide the sums from the total of each\n",
    "    average_ft/= ft_ct\n",
    "    average_solo/= solo_ct\n",
    "    \n",
    "    #I'll also get the avg popularity of the album because why not\n",
    "    average_ttl = (average_ft + average_solo) / 2\n",
    "\n",
    "    #If this ratio is less than 1, features are more popular, if greater than 1, solos are more popular\n",
    "    ratio = average_solo / average_ft\n",
    "\n",
    "    #Now I want to return a dataframe, so I'll make one with everything I've just collected.\n",
    "    data = {'Title': [title],\n",
    "            'Artist': [artist],\n",
    "            'Solo_Count': [solo_ct],\n",
    "            'Feature_Count': [ft_ct],\n",
    "            'Avg_Solo_Pop': [average_solo],\n",
    "            'Avg_Feature_Pop': [average_ft],\n",
    "            'Avg_Total_Pop': [average_ttl],\n",
    "            'Ratio': [ratio],\n",
    "            'Ft_More_Pop': [str(ratio < 1)]}\n",
    "    \n",
    "    return(pd.DataFrame(data=data))"
   ]
  },
  {
   "cell_type": "markdown",
   "id": "e2635de1-6a0f-4d7d-8fcc-0e895605fa64",
   "metadata": {},
   "source": [
    "I'll make sure it works for a single album"
   ]
  },
  {
   "cell_type": "code",
   "execution_count": 10,
   "id": "04cd20bd-3ec2-4e7d-822d-4d5b685b3d98",
   "metadata": {},
   "outputs": [
    {
     "name": "stdout",
     "output_type": "stream",
     "text": [
      "200\n",
      "200\n",
      "200\n"
     ]
    },
    {
     "data": {
      "text/html": [
       "<div>\n",
       "<style scoped>\n",
       "    .dataframe tbody tr th:only-of-type {\n",
       "        vertical-align: middle;\n",
       "    }\n",
       "\n",
       "    .dataframe tbody tr th {\n",
       "        vertical-align: top;\n",
       "    }\n",
       "\n",
       "    .dataframe thead th {\n",
       "        text-align: right;\n",
       "    }\n",
       "</style>\n",
       "<table border=\"1\" class=\"dataframe\">\n",
       "  <thead>\n",
       "    <tr style=\"text-align: right;\">\n",
       "      <th></th>\n",
       "      <th>Title</th>\n",
       "      <th>Artist</th>\n",
       "      <th>Solo_Count</th>\n",
       "      <th>Feature_Count</th>\n",
       "      <th>Avg_Solo_Pop</th>\n",
       "      <th>Avg_Feature_Pop</th>\n",
       "      <th>Avg_Total_Pop</th>\n",
       "      <th>Ratio</th>\n",
       "      <th>Ft_More_Pop</th>\n",
       "    </tr>\n",
       "  </thead>\n",
       "  <tbody>\n",
       "    <tr>\n",
       "      <th>0</th>\n",
       "      <td>COA</td>\n",
       "      <td>ericdoa</td>\n",
       "      <td>9</td>\n",
       "      <td>2</td>\n",
       "      <td>33.333333</td>\n",
       "      <td>34.5</td>\n",
       "      <td>33.916667</td>\n",
       "      <td>0.966184</td>\n",
       "      <td>True</td>\n",
       "    </tr>\n",
       "  </tbody>\n",
       "</table>\n",
       "</div>"
      ],
      "text/plain": [
       "  Title   Artist  Solo_Count  Feature_Count  Avg_Solo_Pop  Avg_Feature_Pop  \\\n",
       "0   COA  ericdoa           9              2     33.333333             34.5   \n",
       "\n",
       "   Avg_Total_Pop     Ratio Ft_More_Pop  \n",
       "0      33.916667  0.966184        True  "
      ]
     },
     "execution_count": 10,
     "metadata": {},
     "output_type": "execute_result"
    }
   ],
   "source": [
    "average('72K9c2D3M69XFFVKiIZuUU')"
   ]
  },
  {
   "cell_type": "markdown",
   "id": "70cb35a2-07a5-47d8-8bbd-b4f7d6370eb4",
   "metadata": {},
   "source": [
    "Here I'll list out all my album ids I want to use in this test, making it easy to add more if I want a greater scope of data"
   ]
  },
  {
   "cell_type": "code",
   "execution_count": 11,
   "id": "2bf9c825-b48b-45b1-a52e-80c475bf5cbc",
   "metadata": {},
   "outputs": [],
   "source": [
    "albumstoadd = ['1jXYc5gip5tqCTDOotfY5L',\n",
    "               '72K9c2D3M69XFFVKiIZuUU',\n",
    "               '4eLPsYPBmXABThSJ821sqY',\n",
    "               '2uoD60Oip7rq3vjXxZ2VaD',\n",
    "               '2QRedhP5RmKJiJ1i8VgDGR',\n",
    "               '4gfPAEkUvCJJikyRW9GoSy',\n",
    "               '7c60QdnpXI2efwnUaIzQSu',\n",
    "               '2ra2X7TUtBwu4cbp1rYQYz',\n",
    "               '7AJPV0L05IyIBid97AvwVD',\n",
    "               '2ODvWsOgouMbaA5xf0RkJe',\n",
    "               '6n9DKpOxwifT5hOXtgLZSL',\n",
    "               '1U2atfLjw1MKte54JUjcQR',\n",
    "               '4yUqNSK6jMi7Y6eWl03U5r',\n",
    "               '40GMAhriYJRO1rsY4YdrZb',\n",
    "               '13rZDYWdAeJumf6UYYBdcL',\n",
    "               '2pOEFqvfxp5uUQ8vQEmVA0',\n",
    "               '7kkWu2etRnJCM6HX7JzhuK',\n",
    "               '4mvxoogQn8p84Wz17zTHnJ',\n",
    "               '2nkto6YNI4rUYTLqEwWJ3o',\n",
    "               '7tWP3OG5dWphctKg4NMACt',\n",
    "               '0FzWvaeMBfKBCqxHTLVlB8',\n",
    "               '1ezs1QD5SYQ6LtxpC9y5I2']"
   ]
  },
  {
   "cell_type": "markdown",
   "id": "1db58a8d-ca73-45e2-8410-f2b3b261edc6",
   "metadata": {},
   "source": [
    "Now I'll loop through that list, running the function I created and concatonating each dataframe to the previous."
   ]
  },
  {
   "cell_type": "code",
   "execution_count": 12,
   "id": "ef064db1-97ab-4635-b208-4e22f5c16869",
   "metadata": {},
   "outputs": [
    {
     "name": "stdout",
     "output_type": "stream",
     "text": [
      "200\n",
      "200\n",
      "200\n",
      "200\n",
      "200\n",
      "200\n",
      "200\n",
      "200\n",
      "200\n",
      "200\n",
      "200\n",
      "200\n",
      "200\n",
      "200\n",
      "200\n",
      "200\n",
      "200\n",
      "200\n",
      "200\n",
      "200\n",
      "200\n",
      "200\n",
      "200\n",
      "200\n",
      "200\n",
      "200\n",
      "200\n",
      "200\n",
      "200\n",
      "200\n",
      "200\n",
      "200\n",
      "200\n",
      "200\n",
      "200\n",
      "200\n",
      "200\n",
      "200\n",
      "200\n",
      "200\n",
      "200\n",
      "200\n",
      "200\n",
      "200\n",
      "200\n",
      "200\n",
      "200\n",
      "200\n",
      "200\n",
      "200\n",
      "200\n",
      "200\n",
      "200\n",
      "200\n",
      "200\n",
      "200\n",
      "200\n",
      "200\n",
      "200\n",
      "200\n",
      "200\n",
      "200\n",
      "200\n",
      "200\n",
      "200\n",
      "200\n"
     ]
    }
   ],
   "source": [
    "compiled = None;\n",
    "\n",
    "for x in albumstoadd:\n",
    "    compiled = pd.concat([compiled,average(x)], ignore_index=True)"
   ]
  },
  {
   "cell_type": "markdown",
   "id": "49fda111-6de0-4d78-950c-204ad0cbc1ad",
   "metadata": {},
   "source": [
    "I'll sort these by the ratio, remember, if its less than 1, features are on average more popular. The farther that ratio is from 1, the greater the disparity between popularity values."
   ]
  },
  {
   "cell_type": "code",
   "execution_count": 13,
   "id": "6d61ba59-085e-484a-a766-d6a22aaf5cc5",
   "metadata": {},
   "outputs": [
    {
     "data": {
      "text/html": [
       "<div>\n",
       "<style scoped>\n",
       "    .dataframe tbody tr th:only-of-type {\n",
       "        vertical-align: middle;\n",
       "    }\n",
       "\n",
       "    .dataframe tbody tr th {\n",
       "        vertical-align: top;\n",
       "    }\n",
       "\n",
       "    .dataframe thead th {\n",
       "        text-align: right;\n",
       "    }\n",
       "</style>\n",
       "<table border=\"1\" class=\"dataframe\">\n",
       "  <thead>\n",
       "    <tr style=\"text-align: right;\">\n",
       "      <th></th>\n",
       "      <th>Title</th>\n",
       "      <th>Artist</th>\n",
       "      <th>Solo_Count</th>\n",
       "      <th>Feature_Count</th>\n",
       "      <th>Avg_Solo_Pop</th>\n",
       "      <th>Avg_Feature_Pop</th>\n",
       "      <th>Avg_Total_Pop</th>\n",
       "      <th>Ratio</th>\n",
       "      <th>Ft_More_Pop</th>\n",
       "    </tr>\n",
       "  </thead>\n",
       "  <tbody>\n",
       "    <tr>\n",
       "      <th>19</th>\n",
       "      <td>Quest For Fire</td>\n",
       "      <td>Skrillex</td>\n",
       "      <td>2</td>\n",
       "      <td>13</td>\n",
       "      <td>35.500000</td>\n",
       "      <td>50.153846</td>\n",
       "      <td>42.826923</td>\n",
       "      <td>0.707822</td>\n",
       "      <td>True</td>\n",
       "    </tr>\n",
       "    <tr>\n",
       "      <th>11</th>\n",
       "      <td>All I Ever Want Is Everything</td>\n",
       "      <td>Blu DeTiger</td>\n",
       "      <td>12</td>\n",
       "      <td>2</td>\n",
       "      <td>22.583333</td>\n",
       "      <td>30.000000</td>\n",
       "      <td>26.291667</td>\n",
       "      <td>0.752778</td>\n",
       "      <td>True</td>\n",
       "    </tr>\n",
       "    <tr>\n",
       "      <th>14</th>\n",
       "      <td>LIFE'S A TRIP</td>\n",
       "      <td>Trippie Redd</td>\n",
       "      <td>11</td>\n",
       "      <td>3</td>\n",
       "      <td>50.454545</td>\n",
       "      <td>64.666667</td>\n",
       "      <td>57.560606</td>\n",
       "      <td>0.780225</td>\n",
       "      <td>True</td>\n",
       "    </tr>\n",
       "    <tr>\n",
       "      <th>7</th>\n",
       "      <td>moreno fm</td>\n",
       "      <td>again&amp;again</td>\n",
       "      <td>11</td>\n",
       "      <td>3</td>\n",
       "      <td>24.000000</td>\n",
       "      <td>29.000000</td>\n",
       "      <td>26.500000</td>\n",
       "      <td>0.827586</td>\n",
       "      <td>True</td>\n",
       "    </tr>\n",
       "    <tr>\n",
       "      <th>3</th>\n",
       "      <td>SCRAPYARD</td>\n",
       "      <td>Quadeca</td>\n",
       "      <td>13</td>\n",
       "      <td>2</td>\n",
       "      <td>41.692308</td>\n",
       "      <td>49.000000</td>\n",
       "      <td>45.346154</td>\n",
       "      <td>0.850863</td>\n",
       "      <td>True</td>\n",
       "    </tr>\n",
       "    <tr>\n",
       "      <th>10</th>\n",
       "      <td>Legends Never Die</td>\n",
       "      <td>Juice WRLD</td>\n",
       "      <td>15</td>\n",
       "      <td>5</td>\n",
       "      <td>59.866667</td>\n",
       "      <td>67.400000</td>\n",
       "      <td>63.633333</td>\n",
       "      <td>0.888229</td>\n",
       "      <td>True</td>\n",
       "    </tr>\n",
       "    <tr>\n",
       "      <th>15</th>\n",
       "      <td>Heaven knows</td>\n",
       "      <td>PinkPantheress</td>\n",
       "      <td>9</td>\n",
       "      <td>4</td>\n",
       "      <td>53.111111</td>\n",
       "      <td>59.750000</td>\n",
       "      <td>56.430556</td>\n",
       "      <td>0.888889</td>\n",
       "      <td>True</td>\n",
       "    </tr>\n",
       "    <tr>\n",
       "      <th>9</th>\n",
       "      <td>Starboy</td>\n",
       "      <td>The Weeknd</td>\n",
       "      <td>13</td>\n",
       "      <td>5</td>\n",
       "      <td>64.461538</td>\n",
       "      <td>72.400000</td>\n",
       "      <td>68.430769</td>\n",
       "      <td>0.890353</td>\n",
       "      <td>True</td>\n",
       "    </tr>\n",
       "    <tr>\n",
       "      <th>18</th>\n",
       "      <td>Flower Boy</td>\n",
       "      <td>Tyler, The Creator</td>\n",
       "      <td>5</td>\n",
       "      <td>9</td>\n",
       "      <td>61.600000</td>\n",
       "      <td>68.555556</td>\n",
       "      <td>65.077778</td>\n",
       "      <td>0.898541</td>\n",
       "      <td>True</td>\n",
       "    </tr>\n",
       "    <tr>\n",
       "      <th>20</th>\n",
       "      <td>MEGAN</td>\n",
       "      <td>Megan Thee Stallion</td>\n",
       "      <td>12</td>\n",
       "      <td>6</td>\n",
       "      <td>54.333333</td>\n",
       "      <td>58.666667</td>\n",
       "      <td>56.500000</td>\n",
       "      <td>0.926136</td>\n",
       "      <td>True</td>\n",
       "    </tr>\n",
       "    <tr>\n",
       "      <th>2</th>\n",
       "      <td>DAMN.</td>\n",
       "      <td>Kendrick Lamar</td>\n",
       "      <td>11</td>\n",
       "      <td>3</td>\n",
       "      <td>69.454545</td>\n",
       "      <td>74.666667</td>\n",
       "      <td>72.060606</td>\n",
       "      <td>0.930195</td>\n",
       "      <td>True</td>\n",
       "    </tr>\n",
       "    <tr>\n",
       "      <th>13</th>\n",
       "      <td>Views</td>\n",
       "      <td>Drake</td>\n",
       "      <td>14</td>\n",
       "      <td>6</td>\n",
       "      <td>63.571429</td>\n",
       "      <td>66.166667</td>\n",
       "      <td>64.869048</td>\n",
       "      <td>0.960777</td>\n",
       "      <td>True</td>\n",
       "    </tr>\n",
       "    <tr>\n",
       "      <th>1</th>\n",
       "      <td>COA</td>\n",
       "      <td>ericdoa</td>\n",
       "      <td>9</td>\n",
       "      <td>2</td>\n",
       "      <td>33.333333</td>\n",
       "      <td>34.500000</td>\n",
       "      <td>33.916667</td>\n",
       "      <td>0.966184</td>\n",
       "      <td>True</td>\n",
       "    </tr>\n",
       "    <tr>\n",
       "      <th>0</th>\n",
       "      <td>2093</td>\n",
       "      <td>Yeat</td>\n",
       "      <td>18</td>\n",
       "      <td>2</td>\n",
       "      <td>54.222222</td>\n",
       "      <td>55.500000</td>\n",
       "      <td>54.861111</td>\n",
       "      <td>0.976977</td>\n",
       "      <td>True</td>\n",
       "    </tr>\n",
       "    <tr>\n",
       "      <th>6</th>\n",
       "      <td>COYOTE</td>\n",
       "      <td>Tommy Richman</td>\n",
       "      <td>8</td>\n",
       "      <td>3</td>\n",
       "      <td>50.500000</td>\n",
       "      <td>51.666667</td>\n",
       "      <td>51.083333</td>\n",
       "      <td>0.977419</td>\n",
       "      <td>True</td>\n",
       "    </tr>\n",
       "    <tr>\n",
       "      <th>16</th>\n",
       "      <td>Y2K! (Bonus)</td>\n",
       "      <td>Ice Spice</td>\n",
       "      <td>8</td>\n",
       "      <td>3</td>\n",
       "      <td>42.000000</td>\n",
       "      <td>42.666667</td>\n",
       "      <td>42.333333</td>\n",
       "      <td>0.984375</td>\n",
       "      <td>True</td>\n",
       "    </tr>\n",
       "    <tr>\n",
       "      <th>12</th>\n",
       "      <td>Bando Stone and The New World</td>\n",
       "      <td>Childish Gambino</td>\n",
       "      <td>9</td>\n",
       "      <td>8</td>\n",
       "      <td>55.222222</td>\n",
       "      <td>54.500000</td>\n",
       "      <td>54.861111</td>\n",
       "      <td>1.013252</td>\n",
       "      <td>False</td>\n",
       "    </tr>\n",
       "    <tr>\n",
       "      <th>21</th>\n",
       "      <td>I LAY DOWN MY LIFE FOR YOU</td>\n",
       "      <td>JPEGMAFIA</td>\n",
       "      <td>11</td>\n",
       "      <td>3</td>\n",
       "      <td>56.272727</td>\n",
       "      <td>55.333333</td>\n",
       "      <td>55.803030</td>\n",
       "      <td>1.016977</td>\n",
       "      <td>False</td>\n",
       "    </tr>\n",
       "    <tr>\n",
       "      <th>8</th>\n",
       "      <td>Worlds</td>\n",
       "      <td>Porter Robinson</td>\n",
       "      <td>7</td>\n",
       "      <td>5</td>\n",
       "      <td>46.285714</td>\n",
       "      <td>45.000000</td>\n",
       "      <td>45.642857</td>\n",
       "      <td>1.028571</td>\n",
       "      <td>False</td>\n",
       "    </tr>\n",
       "    <tr>\n",
       "      <th>17</th>\n",
       "      <td>CASE STUDY 01</td>\n",
       "      <td>Daniel Caesar</td>\n",
       "      <td>6</td>\n",
       "      <td>4</td>\n",
       "      <td>58.833333</td>\n",
       "      <td>56.750000</td>\n",
       "      <td>57.791667</td>\n",
       "      <td>1.036711</td>\n",
       "      <td>False</td>\n",
       "    </tr>\n",
       "    <tr>\n",
       "      <th>4</th>\n",
       "      <td>Whole Lotta Red</td>\n",
       "      <td>Playboi Carti</td>\n",
       "      <td>17</td>\n",
       "      <td>3</td>\n",
       "      <td>64.647059</td>\n",
       "      <td>60.666667</td>\n",
       "      <td>62.656863</td>\n",
       "      <td>1.065611</td>\n",
       "      <td>False</td>\n",
       "    </tr>\n",
       "    <tr>\n",
       "      <th>5</th>\n",
       "      <td>Wallsocket (Director's Cut)</td>\n",
       "      <td>underscores</td>\n",
       "      <td>13</td>\n",
       "      <td>3</td>\n",
       "      <td>29.846154</td>\n",
       "      <td>27.666667</td>\n",
       "      <td>28.756410</td>\n",
       "      <td>1.078777</td>\n",
       "      <td>False</td>\n",
       "    </tr>\n",
       "  </tbody>\n",
       "</table>\n",
       "</div>"
      ],
      "text/plain": [
       "                            Title               Artist  Solo_Count  \\\n",
       "19                 Quest For Fire             Skrillex           2   \n",
       "11  All I Ever Want Is Everything          Blu DeTiger          12   \n",
       "14                  LIFE'S A TRIP         Trippie Redd          11   \n",
       "7                       moreno fm          again&again          11   \n",
       "3                       SCRAPYARD              Quadeca          13   \n",
       "10              Legends Never Die           Juice WRLD          15   \n",
       "15                   Heaven knows       PinkPantheress           9   \n",
       "9                         Starboy           The Weeknd          13   \n",
       "18                     Flower Boy   Tyler, The Creator           5   \n",
       "20                          MEGAN  Megan Thee Stallion          12   \n",
       "2                           DAMN.       Kendrick Lamar          11   \n",
       "13                          Views                Drake          14   \n",
       "1                             COA              ericdoa           9   \n",
       "0                            2093                 Yeat          18   \n",
       "6                          COYOTE        Tommy Richman           8   \n",
       "16                   Y2K! (Bonus)            Ice Spice           8   \n",
       "12  Bando Stone and The New World     Childish Gambino           9   \n",
       "21     I LAY DOWN MY LIFE FOR YOU            JPEGMAFIA          11   \n",
       "8                          Worlds      Porter Robinson           7   \n",
       "17                  CASE STUDY 01        Daniel Caesar           6   \n",
       "4                 Whole Lotta Red        Playboi Carti          17   \n",
       "5     Wallsocket (Director's Cut)          underscores          13   \n",
       "\n",
       "    Feature_Count  Avg_Solo_Pop  Avg_Feature_Pop  Avg_Total_Pop     Ratio  \\\n",
       "19             13     35.500000        50.153846      42.826923  0.707822   \n",
       "11              2     22.583333        30.000000      26.291667  0.752778   \n",
       "14              3     50.454545        64.666667      57.560606  0.780225   \n",
       "7               3     24.000000        29.000000      26.500000  0.827586   \n",
       "3               2     41.692308        49.000000      45.346154  0.850863   \n",
       "10              5     59.866667        67.400000      63.633333  0.888229   \n",
       "15              4     53.111111        59.750000      56.430556  0.888889   \n",
       "9               5     64.461538        72.400000      68.430769  0.890353   \n",
       "18              9     61.600000        68.555556      65.077778  0.898541   \n",
       "20              6     54.333333        58.666667      56.500000  0.926136   \n",
       "2               3     69.454545        74.666667      72.060606  0.930195   \n",
       "13              6     63.571429        66.166667      64.869048  0.960777   \n",
       "1               2     33.333333        34.500000      33.916667  0.966184   \n",
       "0               2     54.222222        55.500000      54.861111  0.976977   \n",
       "6               3     50.500000        51.666667      51.083333  0.977419   \n",
       "16              3     42.000000        42.666667      42.333333  0.984375   \n",
       "12              8     55.222222        54.500000      54.861111  1.013252   \n",
       "21              3     56.272727        55.333333      55.803030  1.016977   \n",
       "8               5     46.285714        45.000000      45.642857  1.028571   \n",
       "17              4     58.833333        56.750000      57.791667  1.036711   \n",
       "4               3     64.647059        60.666667      62.656863  1.065611   \n",
       "5               3     29.846154        27.666667      28.756410  1.078777   \n",
       "\n",
       "   Ft_More_Pop  \n",
       "19        True  \n",
       "11        True  \n",
       "14        True  \n",
       "7         True  \n",
       "3         True  \n",
       "10        True  \n",
       "15        True  \n",
       "9         True  \n",
       "18        True  \n",
       "20        True  \n",
       "2         True  \n",
       "13        True  \n",
       "1         True  \n",
       "0         True  \n",
       "6         True  \n",
       "16        True  \n",
       "12       False  \n",
       "21       False  \n",
       "8        False  \n",
       "17       False  \n",
       "4        False  \n",
       "5        False  "
      ]
     },
     "execution_count": 13,
     "metadata": {},
     "output_type": "execute_result"
    }
   ],
   "source": [
    "compiled.sort_values('Ratio', ascending=True)"
   ]
  },
  {
   "cell_type": "markdown",
   "id": "08fa806d-f51d-45ae-a4ff-5031248ff76c",
   "metadata": {},
   "source": [
    "By looking at the dataframe above, you can see that features tend to be more popular. Below, I've also put the mean and median values below. Both the mean and median for the Ratio are less than 1, by over 5%"
   ]
  },
  {
   "cell_type": "code",
   "execution_count": 14,
   "id": "833f7a77-26d1-4ea8-b8cd-bbb7a46e4fa0",
   "metadata": {},
   "outputs": [
    {
     "data": {
      "text/plain": [
       "Solo_Count         10.636364\n",
       "Feature_Count       4.409091\n",
       "Avg_Solo_Pop       49.626890\n",
       "Avg_Feature_Pop    53.394367\n",
       "Avg_Total_Pop      51.510628\n",
       "Ratio               0.929420\n",
       "dtype: float64"
      ]
     },
     "execution_count": 14,
     "metadata": {},
     "output_type": "execute_result"
    }
   ],
   "source": [
    "compiled.mean(numeric_only=True)"
   ]
  },
  {
   "cell_type": "code",
   "execution_count": 15,
   "id": "a69d2565-ede9-4d6b-8dd8-f01b50568013",
   "metadata": {},
   "outputs": [
    {
     "data": {
      "text/plain": [
       "Solo_Count         11.000000\n",
       "Feature_Count       3.000000\n",
       "Avg_Solo_Pop       53.666667\n",
       "Avg_Feature_Pop    55.416667\n",
       "Avg_Total_Pop      55.332071\n",
       "Ratio               0.945486\n",
       "dtype: float64"
      ]
     },
     "execution_count": 15,
     "metadata": {},
     "output_type": "execute_result"
    }
   ],
   "source": [
    "compiled.median(numeric_only=True)"
   ]
  },
  {
   "cell_type": "markdown",
   "id": "c6d8190e-8687-4f80-a77c-19dd9f317187",
   "metadata": {},
   "source": [
    "<h3>Overall, I'd say this data proves my hypothesis, and songs that have a feature are more popular than ones that do not.</h3>"
   ]
  },
  {
   "cell_type": "markdown",
   "id": "75f46cbd-7427-41ca-9883-3f40e9e1a3a1",
   "metadata": {},
   "source": [
    "<h2>Some things to consider</h2>\n",
    "The majority of these albums have less features than solos, that could play into the data shown. <br>\n",
    "Spotify has a limit of 20 tracks per album, some tracks might have been cut off and not factored into the data. <br>\n",
    "This data only contains a single album each from around 20 or so artists, a more comprehensive dataset would include all of their songs. <br>\n",
    "Also these are only artists I know of, while I tried to include a variety, it could definitely be more broad."
   ]
  },
  {
   "cell_type": "markdown",
   "id": "702bede3-3474-44c4-9405-a036ebf02441",
   "metadata": {},
   "source": [
    "I used the pandas documentation to help me quite a lot across this project as well as the Spotify developer API."
   ]
  },
  {
   "cell_type": "markdown",
   "id": "ed00efcf-f574-462a-9086-b29f627c6d74",
   "metadata": {},
   "source": [
    "<h1>/// Analysis Below ///</h1>"
   ]
  },
  {
   "cell_type": "code",
   "execution_count": 44,
   "id": "4f39bbe6-12fd-4594-b51c-c6e8a6280284",
   "metadata": {},
   "outputs": [],
   "source": [
    "from matplotlib import pyplot as plt"
   ]
  },
  {
   "cell_type": "code",
   "execution_count": 46,
   "id": "dd6d14ca-5644-4581-8720-7188d396c186",
   "metadata": {},
   "outputs": [
    {
     "data": {
      "image/png": "[encoded data removed]",
      "text/plain": [
       "<Figure size 640x480 with 1 Axes>"
      ]
     },
     "metadata": {},
     "output_type": "display_data"
    },
    {
     "data": {
      "text/plain": [
       "Ft_More_Pop\n",
       "True     16\n",
       "False     6\n",
       "Name: count, dtype: int64"
      ]
     },
     "execution_count": 46,
     "metadata": {},
     "output_type": "execute_result"
    }
   ],
   "source": [
    "fig2, ax2 = plt.subplots(1)\n",
    "ax2.pie(compiled['Ft_More_Pop'].value_counts(), labels = ['Features Popularity >','Solos Popularity >'], autopct='%1.1f%%')\n",
    "\n",
    "plt.show()\n",
    "\n",
    "compiled['Ft_More_Pop'].value_counts()"
   ]
  },
  {
   "cell_type": "markdown",
   "id": "f7392d7b-431d-427e-8770-de992fb208ed",
   "metadata": {},
   "source": [
    "Here's a quick pie chart showing the percentage of Albums where features are more popular vs solos"
   ]
  },
  {
   "cell_type": "code",
   "execution_count": 19,
   "id": "74a3f208-5a51-450f-b217-509539e462f8",
   "metadata": {},
   "outputs": [
    {
     "data": {
      "image/png": "[encoded data removed]",
      "text/plain": [
       "<Figure size 640x480 with 1 Axes>"
      ]
     },
     "metadata": {},
     "output_type": "display_data"
    }
   ],
   "source": [
    "fig3, ax3 = plt.subplots()\n",
    "ax3.boxplot([compiled['Avg_Solo_Pop'],compiled['Avg_Feature_Pop']], tick_labels = ['Solo Popularity on Average','Feature Popularity on Average'])\n",
    "\n",
    "plt.show()"
   ]
  },
  {
   "cell_type": "markdown",
   "id": "e5b28642-7261-491b-ac6b-51289eed341e",
   "metadata": {},
   "source": [
    "I like this box plot to see the difference between solo popularity and feature popularity, it's interesting that the median is actually really close, but the features are more popular in every metric"
   ]
  },
  {
   "cell_type": "code",
   "execution_count": 42,
   "id": "3c5ab3e5-62bb-4804-adf0-8cd1dd507d1b",
   "metadata": {},
   "outputs": [
    {
     "data": {
      "image/png": "[encoded data removed]",
      "text/plain": [
       "<Figure size 640x480 with 1 Axes>"
      ]
     },
     "metadata": {},
     "output_type": "display_data"
    }
   ],
   "source": [
    "fig5, ax5 = plt.subplots()\n",
    "ax5.scatter(compiled['Feature_Count'],compiled['Avg_Feature_Pop'],alpha = 0.5)\n",
    "ax5.scatter(compiled['Solo_Count'],compiled['Avg_Solo_Pop'],alpha = 0.5)\n",
    "ax5.set_xlabel('Song Count')\n",
    "ax5.set_ylabel('Popularity')\n",
    "plt.show()"
   ]
  },
  {
   "cell_type": "markdown",
   "id": "63061b39-1a68-4e9c-9acf-ec3fd4419bdb",
   "metadata": {},
   "source": [
    "I wanted to see if there was any real correlation between the amount of a certain song type and how popular they are, it doesn't look like there is any. But then again this isn't relative to the artist's popularity, if it was it might be a different story."
   ]
  },
  {
   "cell_type": "markdown",
   "id": "105ee26e-1448-4f15-a9bf-4fda5d20f706",
   "metadata": {},
   "source": [
    "Overall I think these are some good visuals but they don't tell me a whole lot that I didn't know before, if I had kept more raw data on individual songs from the requests I could have some better graphs, but reworking my notebook to do that is more work than I have time for right now sadly."
   ]
  },
  {
   "cell_type": "code",
   "execution_count": null,
   "id": "99fa4a34-f372-4e32-b8aa-3c01d0bf5b91",
   "metadata": {},
   "outputs": [],
   "source": []
  }
 ],
 "metadata": {
  "kernelspec": {
   "display_name": "Python 3 (ipykernel)",
   "language": "python",
   "name": "python3"
  },
  "language_info": {
   "codemirror_mode": {
    "name": "ipython",
    "version": 3
   },
   "file_extension": ".py",
   "mimetype": "text/x-python",
   "name": "python",
   "nbconvert_exporter": "python",
   "pygments_lexer": "ipython3",
   "version": "3.12.4"
  }
 },
 "nbformat": 4,
 "nbformat_minor": 5
}
