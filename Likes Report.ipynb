{
 "cells": [
  {
   "cell_type": "markdown",
   "id": "f2d582a9-0650-4c08-b6a2-78589271e032",
   "metadata": {},
   "source": [
    "<h1><strong>Data Report</strong></h1>\n",
    "<h3>Brandon Myers</h3>\n",
    "<h3>9 / 12 / 24</h3>"
   ]
  },
  {
   "cell_type": "markdown",
   "id": "6efb1821-e2f8-47ca-99f1-0dc1a523b89d",
   "metadata": {},
   "source": [
    "Who or what is the source of your personal Instagram data? (you downloaded the data, but did you create it?)</br>\n",
    "<strong>The source of my data is Instagram, which is generated when I use their services. </strong></br>\n",
    "Why was this data created and what purposes can the data serve?</br>\n",
    "<strong>This data is created as a result of me using the instagram platform. It can serve the purpose of revealing usage statistics as well as the extent of data collection and personal information being stored.</strong></br>\n",
    "In what ways may this data be reliable?</br>\n",
    "<strong>It's factual.</strong></br>\n",
    "In what ways may this data be unreliable?</br>\n",
    "<strong>It could be missing required context to get a full picture of certain data sets</strong>"
   ]
  },
  {
   "cell_type": "markdown",
   "id": "5fd7edc7-5690-4a3f-a6fc-30b3bde7a9f1",
   "metadata": {},
   "source": [
    "I start by importing the libraries I'm going to use, then loading the json file for liked posts"
   ]
  },
  {
   "cell_type": "code",
   "execution_count": 327,
   "id": "5be233eb-1622-4613-9406-2223ca0a0f39",
   "metadata": {},
   "outputs": [],
   "source": [
    "import datetime\n",
    "import json\n",
    "import pandas as pd\n",
    "\n",
    "with open(\"instagram_data/your_instagram_activity/likes/liked_posts.json\") as j:\n",
    "    likes = json.load(j) "
   ]
  },
  {
   "cell_type": "markdown",
   "id": "45b9f760-f8fa-4c03-a298-04fd9fa0e7f5",
   "metadata": {},
   "source": [
    "Then I grab the keys for this file"
   ]
  },
  {
   "cell_type": "code",
   "execution_count": 330,
   "id": "22af625d-b12b-4733-93ca-8bea748aeb7b",
   "metadata": {},
   "outputs": [
    {
     "data": {
      "text/plain": [
       "dict_keys(['likes_media_likes'])"
      ]
     },
     "execution_count": 330,
     "metadata": {},
     "output_type": "execute_result"
    }
   ],
   "source": [
    "likes.keys()"
   ]
  },
  {
   "cell_type": "markdown",
   "id": "604282cb-2b7e-4987-b58b-228133be3993",
   "metadata": {},
   "source": [
    "I use this key to make a dataframe of the json file."
   ]
  },
  {
   "cell_type": "code",
   "execution_count": 333,
   "id": "eec032f0-7a85-4c2d-8d97-d31bb484a64f",
   "metadata": {},
   "outputs": [],
   "source": [
    "likes_df = pd.DataFrame(likes['likes_media_likes'])"
   ]
  },
  {
   "cell_type": "markdown",
   "id": "c2c5ed95-336f-4a6e-8d18-94eaf0d60e21",
   "metadata": {},
   "source": [
    "I need to get individual elements of string_list_data, so I figure out how to reach them"
   ]
  },
  {
   "cell_type": "code",
   "execution_count": 334,
   "id": "5ba21be2-6b04-4c18-b7d9-11cc721fd63a",
   "metadata": {},
   "outputs": [
    {
     "data": {
      "text/plain": [
       "1726163856"
      ]
     },
     "execution_count": 334,
     "metadata": {},
     "output_type": "execute_result"
    }
   ],
   "source": [
    "likes_df['string_list_data'].iloc[0][0]['timestamp']"
   ]
  },
  {
   "cell_type": "markdown",
   "id": "8327fd4b-a108-46b0-9d30-bd335c04233c",
   "metadata": {},
   "source": [
    "Now that I'm modifying the dataframe and cleaning it up, I'll make a new one called <em>tidy_df.</em> I add a new row for each one, reformatting how I just got the timestamp into a loop. I'll also go ahead and convert the timestamp to human time"
   ]
  },
  {
   "cell_type": "code",
   "execution_count": 370,
   "id": "a0fab732-2660-4755-8af7-f86137381700",
   "metadata": {},
   "outputs": [
    {
     "data": {
      "text/html": [
       "<div>\n",
       "<style scoped>\n",
       "    .dataframe tbody tr th:only-of-type {\n",
       "        vertical-align: middle;\n",
       "    }\n",
       "\n",
       "    .dataframe tbody tr th {\n",
       "        vertical-align: top;\n",
       "    }\n",
       "\n",
       "    .dataframe thead th {\n",
       "        text-align: right;\n",
       "    }\n",
       "</style>\n",
       "<table border=\"1\" class=\"dataframe\">\n",
       "  <thead>\n",
       "    <tr style=\"text-align: right;\">\n",
       "      <th></th>\n",
       "      <th>title</th>\n",
       "      <th>string_list_data</th>\n",
       "      <th>href</th>\n",
       "      <th>value</th>\n",
       "      <th>timestamp</th>\n",
       "    </tr>\n",
       "  </thead>\n",
       "  <tbody>\n",
       "    <tr>\n",
       "      <th>0</th>\n",
       "      <td>ericdoa</td>\n",
       "      <td>[{'href': 'https://www.instagram.com/reel/C_0y...</td>\n",
       "      <td>https://www.instagram.com/reel/C_0yBgaOxIq/</td>\n",
       "      <td>ð</td>\n",
       "      <td>2024-09-12  13:57</td>\n",
       "    </tr>\n",
       "    <tr>\n",
       "      <th>1</th>\n",
       "      <td>nisheink</td>\n",
       "      <td>[{'href': 'https://www.instagram.com/reel/C_gS...</td>\n",
       "      <td>https://www.instagram.com/reel/C_gSccNiB68/</td>\n",
       "      <td>ð</td>\n",
       "      <td>2024-09-11  14:39</td>\n",
       "    </tr>\n",
       "    <tr>\n",
       "      <th>2</th>\n",
       "      <td>owenkcat</td>\n",
       "      <td>[{'href': 'https://www.instagram.com/p/C_wsEQP...</td>\n",
       "      <td>https://www.instagram.com/p/C_wsEQPxRfQ/</td>\n",
       "      <td>ð</td>\n",
       "      <td>2024-09-11  13:49</td>\n",
       "    </tr>\n",
       "    <tr>\n",
       "      <th>3</th>\n",
       "      <td>esportsksu</td>\n",
       "      <td>[{'href': 'https://www.instagram.com/p/C_wxeLn...</td>\n",
       "      <td>https://www.instagram.com/p/C_wxeLnNPwf/</td>\n",
       "      <td>ð</td>\n",
       "      <td>2024-09-11  08:18</td>\n",
       "    </tr>\n",
       "    <tr>\n",
       "      <th>4</th>\n",
       "      <td>esportsksu</td>\n",
       "      <td>[{'href': 'https://www.instagram.com/p/C_vi11t...</td>\n",
       "      <td>https://www.instagram.com/p/C_vi11tNS-L/</td>\n",
       "      <td>ð</td>\n",
       "      <td>2024-09-10  15:02</td>\n",
       "    </tr>\n",
       "  </tbody>\n",
       "</table>\n",
       "</div>"
      ],
      "text/plain": [
       "        title                                   string_list_data  \\\n",
       "0     ericdoa  [{'href': 'https://www.instagram.com/reel/C_0y...   \n",
       "1    nisheink  [{'href': 'https://www.instagram.com/reel/C_gS...   \n",
       "2    owenkcat  [{'href': 'https://www.instagram.com/p/C_wsEQP...   \n",
       "3  esportsksu  [{'href': 'https://www.instagram.com/p/C_wxeLn...   \n",
       "4  esportsksu  [{'href': 'https://www.instagram.com/p/C_vi11t...   \n",
       "\n",
       "                                          href value          timestamp  \n",
       "0  https://www.instagram.com/reel/C_0yBgaOxIq/  ð  2024-09-12  13:57  \n",
       "1  https://www.instagram.com/reel/C_gSccNiB68/  ð  2024-09-11  14:39  \n",
       "2     https://www.instagram.com/p/C_wsEQPxRfQ/  ð  2024-09-11  13:49  \n",
       "3     https://www.instagram.com/p/C_wxeLnNPwf/  ð  2024-09-11  08:18  \n",
       "4     https://www.instagram.com/p/C_vi11tNS-L/  ð  2024-09-10  15:02  "
      ]
     },
     "execution_count": 370,
     "metadata": {},
     "output_type": "execute_result"
    }
   ],
   "source": [
    "tidy_df = likes_df\n",
    "tidy_df['href'] = [x[0]['href'] for x in likes_df['string_list_data']]\n",
    "tidy_df['value'] = [x[0]['value'] for x in likes_df['string_list_data']]\n",
    "tidy_df['timestamp'] = [datetime.datetime.fromtimestamp(x[0]['timestamp']).strftime('%Y-%m-%d  %H:%M') for x in likes_df['string_list_data']]\n",
    "tidy_df.head()"
   ]
  },
  {
   "cell_type": "markdown",
   "id": "704c0c09-e293-483b-975c-0c70574b363c",
   "metadata": {},
   "source": [
    "Now I can get rid of the string_list_data column"
   ]
  },
  {
   "cell_type": "code",
   "execution_count": 353,
   "id": "74af96e7-0bb3-4f0b-98b5-39b27b6d2fbf",
   "metadata": {},
   "outputs": [
    {
     "data": {
      "text/html": [
       "<div>\n",
       "<style scoped>\n",
       "    .dataframe tbody tr th:only-of-type {\n",
       "        vertical-align: middle;\n",
       "    }\n",
       "\n",
       "    .dataframe tbody tr th {\n",
       "        vertical-align: top;\n",
       "    }\n",
       "\n",
       "    .dataframe thead th {\n",
       "        text-align: right;\n",
       "    }\n",
       "</style>\n",
       "<table border=\"1\" class=\"dataframe\">\n",
       "  <thead>\n",
       "    <tr style=\"text-align: right;\">\n",
       "      <th></th>\n",
       "      <th>title</th>\n",
       "      <th>href</th>\n",
       "      <th>value</th>\n",
       "      <th>timestamp</th>\n",
       "    </tr>\n",
       "  </thead>\n",
       "  <tbody>\n",
       "    <tr>\n",
       "      <th>0</th>\n",
       "      <td>ericdoa</td>\n",
       "      <td>https://www.instagram.com/reel/C_0yBgaOxIq/</td>\n",
       "      <td>ð</td>\n",
       "      <td>2024-09-12  01:57</td>\n",
       "    </tr>\n",
       "    <tr>\n",
       "      <th>1</th>\n",
       "      <td>nisheink</td>\n",
       "      <td>https://www.instagram.com/reel/C_gSccNiB68/</td>\n",
       "      <td>ð</td>\n",
       "      <td>2024-09-11  02:39</td>\n",
       "    </tr>\n",
       "    <tr>\n",
       "      <th>2</th>\n",
       "      <td>owenkcat</td>\n",
       "      <td>https://www.instagram.com/p/C_wsEQPxRfQ/</td>\n",
       "      <td>ð</td>\n",
       "      <td>2024-09-11  01:49</td>\n",
       "    </tr>\n",
       "    <tr>\n",
       "      <th>3</th>\n",
       "      <td>esportsksu</td>\n",
       "      <td>https://www.instagram.com/p/C_wxeLnNPwf/</td>\n",
       "      <td>ð</td>\n",
       "      <td>2024-09-11  08:18</td>\n",
       "    </tr>\n",
       "    <tr>\n",
       "      <th>4</th>\n",
       "      <td>esportsksu</td>\n",
       "      <td>https://www.instagram.com/p/C_vi11tNS-L/</td>\n",
       "      <td>ð</td>\n",
       "      <td>2024-09-10  03:02</td>\n",
       "    </tr>\n",
       "  </tbody>\n",
       "</table>\n",
       "</div>"
      ],
      "text/plain": [
       "        title                                         href value  \\\n",
       "0     ericdoa  https://www.instagram.com/reel/C_0yBgaOxIq/  ð   \n",
       "1    nisheink  https://www.instagram.com/reel/C_gSccNiB68/  ð   \n",
       "2    owenkcat     https://www.instagram.com/p/C_wsEQPxRfQ/  ð   \n",
       "3  esportsksu     https://www.instagram.com/p/C_wxeLnNPwf/  ð   \n",
       "4  esportsksu     https://www.instagram.com/p/C_vi11tNS-L/  ð   \n",
       "\n",
       "           timestamp  \n",
       "0  2024-09-12  01:57  \n",
       "1  2024-09-11  02:39  \n",
       "2  2024-09-11  01:49  \n",
       "3  2024-09-11  08:18  \n",
       "4  2024-09-10  03:02  "
      ]
     },
     "execution_count": 353,
     "metadata": {},
     "output_type": "execute_result"
    }
   ],
   "source": [
    "\n",
    "#tidy_df = tidy_df.drop(columns = ['string_list_data'])\n",
    "tidy_df.head()"
   ]
  },
  {
   "cell_type": "markdown",
   "id": "5d8992cc-0fbd-42e4-9f14-314c7fffafad",
   "metadata": {},
   "source": [
    "Here I sort the dataframe by title (account), where accounts with more likes ranking higher."
   ]
  },
  {
   "cell_type": "code",
   "execution_count": 357,
   "id": "b3304b04-482d-4335-b7c1-e609c72159b3",
   "metadata": {},
   "outputs": [
    {
     "data": {
      "text/html": [
       "<div>\n",
       "<style scoped>\n",
       "    .dataframe tbody tr th:only-of-type {\n",
       "        vertical-align: middle;\n",
       "    }\n",
       "\n",
       "    .dataframe tbody tr th {\n",
       "        vertical-align: top;\n",
       "    }\n",
       "\n",
       "    .dataframe thead th {\n",
       "        text-align: right;\n",
       "    }\n",
       "</style>\n",
       "<table border=\"1\" class=\"dataframe\">\n",
       "  <thead>\n",
       "    <tr style=\"text-align: right;\">\n",
       "      <th></th>\n",
       "      <th>string_list_data</th>\n",
       "      <th>href</th>\n",
       "      <th>value</th>\n",
       "      <th>timestamp</th>\n",
       "    </tr>\n",
       "    <tr>\n",
       "      <th>title</th>\n",
       "      <th></th>\n",
       "      <th></th>\n",
       "      <th></th>\n",
       "      <th></th>\n",
       "    </tr>\n",
       "  </thead>\n",
       "  <tbody>\n",
       "    <tr>\n",
       "      <th>largetrap</th>\n",
       "      <td>52</td>\n",
       "      <td>52</td>\n",
       "      <td>52</td>\n",
       "      <td>52</td>\n",
       "    </tr>\n",
       "    <tr>\n",
       "      <th>c4ble.1</th>\n",
       "      <td>38</td>\n",
       "      <td>38</td>\n",
       "      <td>38</td>\n",
       "      <td>38</td>\n",
       "    </tr>\n",
       "    <tr>\n",
       "      <th>monkey.posting</th>\n",
       "      <td>34</td>\n",
       "      <td>34</td>\n",
       "      <td>34</td>\n",
       "      <td>34</td>\n",
       "    </tr>\n",
       "    <tr>\n",
       "      <th>needless.mp3</th>\n",
       "      <td>19</td>\n",
       "      <td>19</td>\n",
       "      <td>19</td>\n",
       "      <td>19</td>\n",
       "    </tr>\n",
       "    <tr>\n",
       "      <th>xandillionaire_grindset</th>\n",
       "      <td>18</td>\n",
       "      <td>18</td>\n",
       "      <td>18</td>\n",
       "      <td>18</td>\n",
       "    </tr>\n",
       "    <tr>\n",
       "      <th>uncrustable.memess</th>\n",
       "      <td>16</td>\n",
       "      <td>16</td>\n",
       "      <td>16</td>\n",
       "      <td>16</td>\n",
       "    </tr>\n",
       "    <tr>\n",
       "      <th>brbadbrgood</th>\n",
       "      <td>15</td>\n",
       "      <td>15</td>\n",
       "      <td>15</td>\n",
       "      <td>15</td>\n",
       "    </tr>\n",
       "    <tr>\n",
       "      <th>opiux.animals</th>\n",
       "      <td>12</td>\n",
       "      <td>12</td>\n",
       "      <td>12</td>\n",
       "      <td>12</td>\n",
       "    </tr>\n",
       "    <tr>\n",
       "      <th>owenkcat</th>\n",
       "      <td>11</td>\n",
       "      <td>11</td>\n",
       "      <td>11</td>\n",
       "      <td>11</td>\n",
       "    </tr>\n",
       "    <tr>\n",
       "      <th>god_dangit_bobby</th>\n",
       "      <td>11</td>\n",
       "      <td>11</td>\n",
       "      <td>11</td>\n",
       "      <td>11</td>\n",
       "    </tr>\n",
       "    <tr>\n",
       "      <th>howitfeelstochewfivegum</th>\n",
       "      <td>10</td>\n",
       "      <td>10</td>\n",
       "      <td>10</td>\n",
       "      <td>10</td>\n",
       "    </tr>\n",
       "    <tr>\n",
       "      <th>ericdoa</th>\n",
       "      <td>10</td>\n",
       "      <td>10</td>\n",
       "      <td>10</td>\n",
       "      <td>10</td>\n",
       "    </tr>\n",
       "    <tr>\n",
       "      <th>bettercallsaulamc</th>\n",
       "      <td>9</td>\n",
       "      <td>9</td>\n",
       "      <td>9</td>\n",
       "      <td>9</td>\n",
       "    </tr>\n",
       "    <tr>\n",
       "      <th>manifestthisdick</th>\n",
       "      <td>9</td>\n",
       "      <td>9</td>\n",
       "      <td>9</td>\n",
       "      <td>9</td>\n",
       "    </tr>\n",
       "    <tr>\n",
       "      <th>oiaflol</th>\n",
       "      <td>8</td>\n",
       "      <td>8</td>\n",
       "      <td>8</td>\n",
       "      <td>8</td>\n",
       "    </tr>\n",
       "    <tr>\n",
       "      <th>spice.god</th>\n",
       "      <td>8</td>\n",
       "      <td>8</td>\n",
       "      <td>8</td>\n",
       "      <td>8</td>\n",
       "    </tr>\n",
       "    <tr>\n",
       "      <th>prettycool.dudes</th>\n",
       "      <td>8</td>\n",
       "      <td>8</td>\n",
       "      <td>8</td>\n",
       "      <td>8</td>\n",
       "    </tr>\n",
       "    <tr>\n",
       "      <th>nisheink</th>\n",
       "      <td>8</td>\n",
       "      <td>8</td>\n",
       "      <td>8</td>\n",
       "      <td>8</td>\n",
       "    </tr>\n",
       "    <tr>\n",
       "      <th>almostacow</th>\n",
       "      <td>7</td>\n",
       "      <td>7</td>\n",
       "      <td>7</td>\n",
       "      <td>7</td>\n",
       "    </tr>\n",
       "    <tr>\n",
       "      <th>sillyshuu</th>\n",
       "      <td>7</td>\n",
       "      <td>7</td>\n",
       "      <td>7</td>\n",
       "      <td>7</td>\n",
       "    </tr>\n",
       "  </tbody>\n",
       "</table>\n",
       "</div>"
      ],
      "text/plain": [
       "                         string_list_data  href  value  timestamp\n",
       "title                                                            \n",
       "largetrap                              52    52     52         52\n",
       "c4ble.1                                38    38     38         38\n",
       "monkey.posting                         34    34     34         34\n",
       "needless.mp3                           19    19     19         19\n",
       "xandillionaire_grindset                18    18     18         18\n",
       "uncrustable.memess                     16    16     16         16\n",
       "brbadbrgood                            15    15     15         15\n",
       "opiux.animals                          12    12     12         12\n",
       "owenkcat                               11    11     11         11\n",
       "god_dangit_bobby                       11    11     11         11\n",
       "howitfeelstochewfivegum                10    10     10         10\n",
       "ericdoa                                10    10     10         10\n",
       "bettercallsaulamc                       9     9      9          9\n",
       "manifestthisdick                        9     9      9          9\n",
       "oiaflol                                 8     8      8          8\n",
       "spice.god                               8     8      8          8\n",
       "prettycool.dudes                        8     8      8          8\n",
       "nisheink                                8     8      8          8\n",
       "almostacow                              7     7      7          7\n",
       "sillyshuu                               7     7      7          7"
      ]
     },
     "execution_count": 357,
     "metadata": {},
     "output_type": "execute_result"
    }
   ],
   "source": [
    "likes_df.groupby('title').count().sort_values('timestamp', ascending = False).head(20)"
   ]
  },
  {
   "cell_type": "markdown",
   "id": "396bb537-1dbc-46ec-872c-763f5568ee95",
   "metadata": {},
   "source": [
    "<h2>Hypothesis</h2>\n",
    "<p>For my hypothesis, I believe that the majority of marketplace browsing I do is in the afternoon rather than morning</p>\n",
    "<p>The file I'm using contains the most browsing data I could find, which is located in the marketplace section with over 700 posts. I only use facebook for marketplace, so this makes sense. </p>"
   ]
  },
  {
   "cell_type": "markdown",
   "id": "6df142e3-eb5a-486f-a22b-43f6f7787bb9",
   "metadata": {},
   "source": [
    "I'll start by opening a file from my facebook data, which logs what posts I've seen and when. I'll go ahead and grab the key while I'm at it."
   ]
  },
  {
   "cell_type": "code",
   "execution_count": 453,
   "id": "fda7a364-ed2b-4bab-ba33-76800fddbd6d",
   "metadata": {},
   "outputs": [
    {
     "data": {
      "text/plain": [
       "dict_keys(['recently_viewed'])"
      ]
     },
     "execution_count": 453,
     "metadata": {},
     "output_type": "execute_result"
    }
   ],
   "source": [
    "with open('facebook_data/logged_information/your_interactions_on_facebook/recently_viewed.json') as j:\n",
    "    fb = json.load(j) \n",
    "fb.keys()"
   ]
  },
  {
   "cell_type": "markdown",
   "id": "e8186622-e61b-4a3b-853c-f40ef0d8499f",
   "metadata": {},
   "source": [
    "I've made this dataframe, but I'll only need the children elements of the last row"
   ]
  },
  {
   "cell_type": "code",
   "execution_count": 446,
   "id": "abae2fba-bb6f-411d-9f22-91eb19f54a38",
   "metadata": {},
   "outputs": [
    {
     "data": {
      "text/html": [
       "<div>\n",
       "<style scoped>\n",
       "    .dataframe tbody tr th:only-of-type {\n",
       "        vertical-align: middle;\n",
       "    }\n",
       "\n",
       "    .dataframe tbody tr th {\n",
       "        vertical-align: top;\n",
       "    }\n",
       "\n",
       "    .dataframe thead th {\n",
       "        text-align: right;\n",
       "    }\n",
       "</style>\n",
       "<table border=\"1\" class=\"dataframe\">\n",
       "  <thead>\n",
       "    <tr style=\"text-align: right;\">\n",
       "      <th></th>\n",
       "      <th>name</th>\n",
       "      <th>description</th>\n",
       "      <th>children</th>\n",
       "    </tr>\n",
       "  </thead>\n",
       "  <tbody>\n",
       "    <tr>\n",
       "      <th>0</th>\n",
       "      <td>Marketplace Interactions</td>\n",
       "      <td>Your recent interactions on Marketplace</td>\n",
       "      <td>{'name': 'Marketplace Category Views', 'descri...</td>\n",
       "    </tr>\n",
       "    <tr>\n",
       "      <th>1</th>\n",
       "      <td>Marketplace Interactions</td>\n",
       "      <td>Your recent interactions on Marketplace</td>\n",
       "      <td>{'name': 'Marketplace Post Items', 'descriptio...</td>\n",
       "    </tr>\n",
       "    <tr>\n",
       "      <th>2</th>\n",
       "      <td>Marketplace Interactions</td>\n",
       "      <td>Your recent interactions on Marketplace</td>\n",
       "      <td>{'name': 'Marketplace Received Buyer Messages'...</td>\n",
       "    </tr>\n",
       "    <tr>\n",
       "      <th>3</th>\n",
       "      <td>Marketplace Interactions</td>\n",
       "      <td>Your recent interactions on Marketplace</td>\n",
       "      <td>{'name': 'Marketplace Searches', 'description'...</td>\n",
       "    </tr>\n",
       "    <tr>\n",
       "      <th>4</th>\n",
       "      <td>Marketplace Interactions</td>\n",
       "      <td>Your recent interactions on Marketplace</td>\n",
       "      <td>{'name': 'Marketplace Contacted Sellers', 'des...</td>\n",
       "    </tr>\n",
       "    <tr>\n",
       "      <th>5</th>\n",
       "      <td>Marketplace Interactions</td>\n",
       "      <td>Your recent interactions on Marketplace</td>\n",
       "      <td>{'name': 'Marketplace Tab Added', 'description...</td>\n",
       "    </tr>\n",
       "    <tr>\n",
       "      <th>6</th>\n",
       "      <td>Marketplace Interactions</td>\n",
       "      <td>Your recent interactions on Marketplace</td>\n",
       "      <td>{'name': 'Marketplace item details', 'descript...</td>\n",
       "    </tr>\n",
       "    <tr>\n",
       "      <th>7</th>\n",
       "      <td>Marketplace Interactions</td>\n",
       "      <td>Your recent interactions on Marketplace</td>\n",
       "      <td>{'name': 'Marketplace Items', 'description': '...</td>\n",
       "    </tr>\n",
       "  </tbody>\n",
       "</table>\n",
       "</div>"
      ],
      "text/plain": [
       "                       name                              description  \\\n",
       "0  Marketplace Interactions  Your recent interactions on Marketplace   \n",
       "1  Marketplace Interactions  Your recent interactions on Marketplace   \n",
       "2  Marketplace Interactions  Your recent interactions on Marketplace   \n",
       "3  Marketplace Interactions  Your recent interactions on Marketplace   \n",
       "4  Marketplace Interactions  Your recent interactions on Marketplace   \n",
       "5  Marketplace Interactions  Your recent interactions on Marketplace   \n",
       "6  Marketplace Interactions  Your recent interactions on Marketplace   \n",
       "7  Marketplace Interactions  Your recent interactions on Marketplace   \n",
       "\n",
       "                                            children  \n",
       "0  {'name': 'Marketplace Category Views', 'descri...  \n",
       "1  {'name': 'Marketplace Post Items', 'descriptio...  \n",
       "2  {'name': 'Marketplace Received Buyer Messages'...  \n",
       "3  {'name': 'Marketplace Searches', 'description'...  \n",
       "4  {'name': 'Marketplace Contacted Sellers', 'des...  \n",
       "5  {'name': 'Marketplace Tab Added', 'description...  \n",
       "6  {'name': 'Marketplace item details', 'descript...  \n",
       "7  {'name': 'Marketplace Items', 'description': '...  "
      ]
     },
     "execution_count": 446,
     "metadata": {},
     "output_type": "execute_result"
    }
   ],
   "source": [
    "fb_df = pd.DataFrame(fb['recently_viewed'][2])\n",
    "fb_df"
   ]
  },
  {
   "cell_type": "markdown",
   "id": "518017ae-204c-4724-9baa-2b02e060d035",
   "metadata": {},
   "source": [
    "I've made a new dataframe, and added the data I need as 2 columns. The name as the second element is arbitrary, I really only need the time.\n",
    "This dataframe represents different posts and times at which I've seen those posts, there isn't much too it, but it will work for what I need. Looking at it normally won't reveal anything about my hypothesis, which is why I need to plot it.\n"
   ]
  },
  {
   "cell_type": "code",
   "execution_count": 450,
   "id": "1c07c90c-6905-4263-a354-c0e50cf18010",
   "metadata": {},
   "outputs": [
    {
     "data": {
      "text/html": [
       "<div>\n",
       "<style scoped>\n",
       "    .dataframe tbody tr th:only-of-type {\n",
       "        vertical-align: middle;\n",
       "    }\n",
       "\n",
       "    .dataframe tbody tr th {\n",
       "        vertical-align: top;\n",
       "    }\n",
       "\n",
       "    .dataframe thead th {\n",
       "        text-align: right;\n",
       "    }\n",
       "</style>\n",
       "<table border=\"1\" class=\"dataframe\">\n",
       "  <thead>\n",
       "    <tr style=\"text-align: right;\">\n",
       "      <th></th>\n",
       "      <th>time</th>\n",
       "      <th>name</th>\n",
       "    </tr>\n",
       "  </thead>\n",
       "  <tbody>\n",
       "    <tr>\n",
       "      <th>0</th>\n",
       "      <td>21</td>\n",
       "      <td>2010 Subaru wrx sti â¢ hatchback</td>\n",
       "    </tr>\n",
       "    <tr>\n",
       "      <th>1</th>\n",
       "      <td>21</td>\n",
       "      <td>2011 Subaru Impreza Â· WRX Premium Sedan 4D</td>\n",
       "    </tr>\n",
       "    <tr>\n",
       "      <th>2</th>\n",
       "      <td>21</td>\n",
       "      <td>2002 Subaru Impreza Â· WRX Sedan 4D</td>\n",
       "    </tr>\n",
       "    <tr>\n",
       "      <th>3</th>\n",
       "      <td>21</td>\n",
       "      <td>2017 Subaru WRX Â· WRX STI Limited Sedan 4D</td>\n",
       "    </tr>\n",
       "    <tr>\n",
       "      <th>4</th>\n",
       "      <td>21</td>\n",
       "      <td>2019 Subaru WRX Â· WRX Premium Sedan 4D</td>\n",
       "    </tr>\n",
       "    <tr>\n",
       "      <th>5</th>\n",
       "      <td>9</td>\n",
       "      <td>5x100 rims</td>\n",
       "    </tr>\n",
       "    <tr>\n",
       "      <th>6</th>\n",
       "      <td>9</td>\n",
       "      <td>tires</td>\n",
       "    </tr>\n",
       "    <tr>\n",
       "      <th>7</th>\n",
       "      <td>9</td>\n",
       "      <td>Subaru Wheels &amp; Tires (5x100)</td>\n",
       "    </tr>\n",
       "    <tr>\n",
       "      <th>8</th>\n",
       "      <td>9</td>\n",
       "      <td>Enkei Rims</td>\n",
       "    </tr>\n",
       "    <tr>\n",
       "      <th>9</th>\n",
       "      <td>21</td>\n",
       "      <td>2017 Acura NSX NSX</td>\n",
       "    </tr>\n",
       "  </tbody>\n",
       "</table>\n",
       "</div>"
      ],
      "text/plain": [
       "   time                                         name\n",
       "0    21            2010 Subaru wrx sti â¢ hatchback\n",
       "1    21  2011 Subaru Impreza Â· WRX Premium Sedan 4D\n",
       "2    21          2002 Subaru Impreza Â· WRX Sedan 4D\n",
       "3    21  2017 Subaru WRX Â· WRX STI Limited Sedan 4D\n",
       "4    21      2019 Subaru WRX Â· WRX Premium Sedan 4D\n",
       "5     9                                   5x100 rims\n",
       "6     9                                        tires\n",
       "7     9                Subaru Wheels & Tires (5x100)\n",
       "8     9                                   Enkei Rims\n",
       "9    21                           2017 Acura NSX NSX"
      ]
     },
     "execution_count": 450,
     "metadata": {},
     "output_type": "execute_result"
    }
   ],
   "source": [
    "mktplc_df = pd.DataFrame()\n",
    "mktplc_df['time'] = [int(datetime.datetime.fromtimestamp(x['timestamp']).strftime('%H')) for x in fb_df['children'][7]['entries']]\n",
    "mktplc_df['name'] = [x['data']['name'] for x in fb_df['children'][7]['entries']]\n",
    "mktplc_df.head(10)"
   ]
  },
  {
   "cell_type": "markdown",
   "id": "dfed49d9-2749-4f7c-927d-4d33ad50e34e",
   "metadata": {},
   "source": [
    "But I need to show when the majority of my browsing takes place, therefore, I've used a box plot, with the y axis representing the 24 hours in a day. This plot proves my hypothesis to be true."
   ]
  },
  {
   "cell_type": "code",
   "execution_count": 455,
   "id": "726a212f-45af-4a6b-875f-566473043b68",
   "metadata": {},
   "outputs": [
    {
     "data": {
      "image/png": "[encoded data removed]",
      "text/plain": [
       "<Figure size 640x480 with 1 Axes>"
      ]
     },
     "metadata": {},
     "output_type": "display_data"
    }
   ],
   "source": [
    "plot = mktplc_df.plot(kind = 'box', title = 'Browsing by time of day', yticks = [0,4,8,12,16,20,24])"
   ]
  },
  {
   "cell_type": "markdown",
   "id": "e157518a-8baa-4d4f-b1ee-a6431697fdf1",
   "metadata": {},
   "source": [
    "Overall, I'm satisfied with my work, but a lot of my time was spent with trial and error, trying to figure out how pandas and dataframes work. A lot of my solutions feel like hacky work-arounds, and there a definitely better, cleaner code solutions than what I had."
   ]
  }
 ],
 "metadata": {
  "kernelspec": {
   "display_name": "Python 3 (ipykernel)",
   "language": "python",
   "name": "python3"
  },
  "language_info": {
   "codemirror_mode": {
    "name": "ipython",
    "version": 3
   },
   "file_extension": ".py",
   "mimetype": "text/x-python",
   "name": "python",
   "nbconvert_exporter": "python",
   "pygments_lexer": "ipython3",
   "version": "3.12.4"
  }
 },
 "nbformat": 4,
 "nbformat_minor": 5
}
