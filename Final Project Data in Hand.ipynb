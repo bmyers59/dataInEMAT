{
 "cells": [
  {
   "cell_type": "code",
   "execution_count": 132,
   "id": "bd1d68b3-3485-4350-ba63-b77a338a27fe",
   "metadata": {},
   "outputs": [],
   "source": [
    "import pandas as pd\n",
    "import json\n",
    "import requests\n",
    "import base64\n",
    "import urllib"
   ]
  },
  {
   "cell_type": "code",
   "execution_count": 133,
   "id": "1e77ab93-9e38-4d6d-86e1-dce2241832dc",
   "metadata": {},
   "outputs": [],
   "source": [
    "app_key = pd.read_csv(\"keys/PUBG.txt\")"
   ]
  },
  {
   "cell_type": "markdown",
   "id": "05cec42d-0f4a-47ef-a36d-a62afea22e83",
   "metadata": {},
   "source": [
    "Creating api call function and header"
   ]
  },
  {
   "cell_type": "code",
   "execution_count": 128,
   "id": "91d68eab-6d3e-4e04-bac2-61bdb618a824",
   "metadata": {},
   "outputs": [],
   "source": [
    "def api_call(endpoint_url, api_header):\n",
    "    response = requests.get(endpoint_url, headers = api_header)\n",
    "    print(response.status_code)\n",
    "    return response.json()"
   ]
  },
  {
   "cell_type": "code",
   "execution_count": 129,
   "id": "db39d9ff-667b-4830-b8ae-3e31b98d82d0",
   "metadata": {},
   "outputs": [],
   "source": [
    "header = {'Authorization':'Bearer {}'.format(app_key['Key'].iloc[0]), 'Accept':'application/vnd.api+json'}"
   ]
  },
  {
   "cell_type": "markdown",
   "id": "d5c5f628-20d0-4b9a-ac27-6782954381da",
   "metadata": {},
   "source": [
    "Testing the call"
   ]
  },
  {
   "cell_type": "code",
   "execution_count": 130,
   "id": "fa84108d-cabf-4a03-9a2e-e3c2c99964dc",
   "metadata": {},
   "outputs": [
    {
     "name": "stdout",
     "output_type": "stream",
     "text": [
      "200\n"
     ]
    },
    {
     "data": {
      "text/html": [
       "<div>\n",
       "<style scoped>\n",
       "    .dataframe tbody tr th:only-of-type {\n",
       "        vertical-align: middle;\n",
       "    }\n",
       "\n",
       "    .dataframe tbody tr th {\n",
       "        vertical-align: top;\n",
       "    }\n",
       "\n",
       "    .dataframe thead th {\n",
       "        text-align: right;\n",
       "    }\n",
       "</style>\n",
       "<table border=\"1\" class=\"dataframe\">\n",
       "  <thead>\n",
       "    <tr style=\"text-align: right;\">\n",
       "      <th></th>\n",
       "      <th>type</th>\n",
       "      <th>id</th>\n",
       "      <th>attributes</th>\n",
       "      <th>relationships</th>\n",
       "      <th>links</th>\n",
       "    </tr>\n",
       "  </thead>\n",
       "  <tbody>\n",
       "    <tr>\n",
       "      <th>shardId</th>\n",
       "      <td>player</td>\n",
       "      <td>account.619b02706fc04dcea87889fb2e621f42</td>\n",
       "      <td>steam</td>\n",
       "      <td>NaN</td>\n",
       "      <td>NaN</td>\n",
       "    </tr>\n",
       "    <tr>\n",
       "      <th>patchVersion</th>\n",
       "      <td>player</td>\n",
       "      <td>account.619b02706fc04dcea87889fb2e621f42</td>\n",
       "      <td></td>\n",
       "      <td>NaN</td>\n",
       "      <td>NaN</td>\n",
       "    </tr>\n",
       "    <tr>\n",
       "      <th>banType</th>\n",
       "      <td>player</td>\n",
       "      <td>account.619b02706fc04dcea87889fb2e621f42</td>\n",
       "      <td>Innocent</td>\n",
       "      <td>NaN</td>\n",
       "      <td>NaN</td>\n",
       "    </tr>\n",
       "    <tr>\n",
       "      <th>clanId</th>\n",
       "      <td>player</td>\n",
       "      <td>account.619b02706fc04dcea87889fb2e621f42</td>\n",
       "      <td></td>\n",
       "      <td>NaN</td>\n",
       "      <td>NaN</td>\n",
       "    </tr>\n",
       "    <tr>\n",
       "      <th>name</th>\n",
       "      <td>player</td>\n",
       "      <td>account.619b02706fc04dcea87889fb2e621f42</td>\n",
       "      <td>ChangChunYuanMan</td>\n",
       "      <td>NaN</td>\n",
       "      <td>NaN</td>\n",
       "    </tr>\n",
       "    <tr>\n",
       "      <th>stats</th>\n",
       "      <td>player</td>\n",
       "      <td>account.619b02706fc04dcea87889fb2e621f42</td>\n",
       "      <td>None</td>\n",
       "      <td>NaN</td>\n",
       "      <td>NaN</td>\n",
       "    </tr>\n",
       "    <tr>\n",
       "      <th>titleId</th>\n",
       "      <td>player</td>\n",
       "      <td>account.619b02706fc04dcea87889fb2e621f42</td>\n",
       "      <td>pubg</td>\n",
       "      <td>NaN</td>\n",
       "      <td>NaN</td>\n",
       "    </tr>\n",
       "    <tr>\n",
       "      <th>assets</th>\n",
       "      <td>player</td>\n",
       "      <td>account.619b02706fc04dcea87889fb2e621f42</td>\n",
       "      <td>NaN</td>\n",
       "      <td>{'data': []}</td>\n",
       "      <td>NaN</td>\n",
       "    </tr>\n",
       "    <tr>\n",
       "      <th>matches</th>\n",
       "      <td>player</td>\n",
       "      <td>account.619b02706fc04dcea87889fb2e621f42</td>\n",
       "      <td>NaN</td>\n",
       "      <td>{'data': [{'type': 'match', 'id': 'a3c4b8e3-23...</td>\n",
       "      <td>NaN</td>\n",
       "    </tr>\n",
       "    <tr>\n",
       "      <th>self</th>\n",
       "      <td>player</td>\n",
       "      <td>account.619b02706fc04dcea87889fb2e621f42</td>\n",
       "      <td>NaN</td>\n",
       "      <td>NaN</td>\n",
       "      <td>https://api.pubg.com/shards/steam/players/acco...</td>\n",
       "    </tr>\n",
       "    <tr>\n",
       "      <th>schema</th>\n",
       "      <td>player</td>\n",
       "      <td>account.619b02706fc04dcea87889fb2e621f42</td>\n",
       "      <td>NaN</td>\n",
       "      <td>NaN</td>\n",
       "      <td></td>\n",
       "    </tr>\n",
       "  </tbody>\n",
       "</table>\n",
       "</div>"
      ],
      "text/plain": [
       "                type                                        id  \\\n",
       "shardId       player  account.619b02706fc04dcea87889fb2e621f42   \n",
       "patchVersion  player  account.619b02706fc04dcea87889fb2e621f42   \n",
       "banType       player  account.619b02706fc04dcea87889fb2e621f42   \n",
       "clanId        player  account.619b02706fc04dcea87889fb2e621f42   \n",
       "name          player  account.619b02706fc04dcea87889fb2e621f42   \n",
       "stats         player  account.619b02706fc04dcea87889fb2e621f42   \n",
       "titleId       player  account.619b02706fc04dcea87889fb2e621f42   \n",
       "assets        player  account.619b02706fc04dcea87889fb2e621f42   \n",
       "matches       player  account.619b02706fc04dcea87889fb2e621f42   \n",
       "self          player  account.619b02706fc04dcea87889fb2e621f42   \n",
       "schema        player  account.619b02706fc04dcea87889fb2e621f42   \n",
       "\n",
       "                    attributes  \\\n",
       "shardId                  steam   \n",
       "patchVersion                     \n",
       "banType               Innocent   \n",
       "clanId                           \n",
       "name          ChangChunYuanMan   \n",
       "stats                     None   \n",
       "titleId                   pubg   \n",
       "assets                     NaN   \n",
       "matches                    NaN   \n",
       "self                       NaN   \n",
       "schema                     NaN   \n",
       "\n",
       "                                                  relationships  \\\n",
       "shardId                                                     NaN   \n",
       "patchVersion                                                NaN   \n",
       "banType                                                     NaN   \n",
       "clanId                                                      NaN   \n",
       "name                                                        NaN   \n",
       "stats                                                       NaN   \n",
       "titleId                                                     NaN   \n",
       "assets                                             {'data': []}   \n",
       "matches       {'data': [{'type': 'match', 'id': 'a3c4b8e3-23...   \n",
       "self                                                        NaN   \n",
       "schema                                                      NaN   \n",
       "\n",
       "                                                          links  \n",
       "shardId                                                     NaN  \n",
       "patchVersion                                                NaN  \n",
       "banType                                                     NaN  \n",
       "clanId                                                      NaN  \n",
       "name                                                        NaN  \n",
       "stats                                                       NaN  \n",
       "titleId                                                     NaN  \n",
       "assets                                                      NaN  \n",
       "matches                                                     NaN  \n",
       "self          https://api.pubg.com/shards/steam/players/acco...  \n",
       "schema                                                           "
      ]
     },
     "execution_count": 130,
     "metadata": {},
     "output_type": "execute_result"
    }
   ],
   "source": [
    "test = api_call(\"https://api.pubg.com/shards/steam/players?filter[playerNames]=ChangChunYuanMan\", header)\n",
    "test_df = pd.DataFrame(test['data'][0])\n",
    "test_df"
   ]
  },
  {
   "cell_type": "markdown",
   "id": "e5537745-3c5e-4c24-80c0-de74517ce7d5",
   "metadata": {},
   "source": [
    "Getting match data"
   ]
  },
  {
   "cell_type": "code",
   "execution_count": 31,
   "id": "d3e8ee1c-5bdb-4d73-a4b3-109f975148c0",
   "metadata": {},
   "outputs": [
    {
     "name": "stdout",
     "output_type": "stream",
     "text": [
      "200\n"
     ]
    }
   ],
   "source": [
    "match = api_call(\"https://api.pubg.com/shards/steam/matches/528fed7c-bbc3-4eea-a161-b48dfb4348bb\", header)"
   ]
  },
  {
   "cell_type": "code",
   "execution_count": 36,
   "id": "d6e4c56c-de85-4af0-bd33-114b06d10b73",
   "metadata": {},
   "outputs": [
    {
     "data": {
      "text/plain": [
       "dict_keys(['data', 'included', 'links', 'meta'])"
      ]
     },
     "execution_count": 36,
     "metadata": {},
     "output_type": "execute_result"
    }
   ],
   "source": [
    "match.keys()"
   ]
  },
  {
   "cell_type": "code",
   "execution_count": 88,
   "id": "831e6244-966e-4b96-be03-572fc21fa809",
   "metadata": {},
   "outputs": [
    {
     "data": {
      "text/html": [
       "<div>\n",
       "<style scoped>\n",
       "    .dataframe tbody tr th:only-of-type {\n",
       "        vertical-align: middle;\n",
       "    }\n",
       "\n",
       "    .dataframe tbody tr th {\n",
       "        vertical-align: top;\n",
       "    }\n",
       "\n",
       "    .dataframe thead th {\n",
       "        text-align: right;\n",
       "    }\n",
       "</style>\n",
       "<table border=\"1\" class=\"dataframe\">\n",
       "  <thead>\n",
       "    <tr style=\"text-align: right;\">\n",
       "      <th></th>\n",
       "      <th>stats</th>\n",
       "      <th>actor</th>\n",
       "      <th>shardId</th>\n",
       "    </tr>\n",
       "  </thead>\n",
       "  <tbody>\n",
       "    <tr>\n",
       "      <th>DBNOs</th>\n",
       "      <td>2</td>\n",
       "      <td></td>\n",
       "      <td>steam</td>\n",
       "    </tr>\n",
       "    <tr>\n",
       "      <th>assists</th>\n",
       "      <td>2</td>\n",
       "      <td></td>\n",
       "      <td>steam</td>\n",
       "    </tr>\n",
       "    <tr>\n",
       "      <th>boosts</th>\n",
       "      <td>11</td>\n",
       "      <td></td>\n",
       "      <td>steam</td>\n",
       "    </tr>\n",
       "    <tr>\n",
       "      <th>damageDealt</th>\n",
       "      <td>657.676</td>\n",
       "      <td></td>\n",
       "      <td>steam</td>\n",
       "    </tr>\n",
       "    <tr>\n",
       "      <th>deathType</th>\n",
       "      <td>alive</td>\n",
       "      <td></td>\n",
       "      <td>steam</td>\n",
       "    </tr>\n",
       "    <tr>\n",
       "      <th>headshotKills</th>\n",
       "      <td>1</td>\n",
       "      <td></td>\n",
       "      <td>steam</td>\n",
       "    </tr>\n",
       "    <tr>\n",
       "      <th>heals</th>\n",
       "      <td>7</td>\n",
       "      <td></td>\n",
       "      <td>steam</td>\n",
       "    </tr>\n",
       "    <tr>\n",
       "      <th>killPlace</th>\n",
       "      <td>1</td>\n",
       "      <td></td>\n",
       "      <td>steam</td>\n",
       "    </tr>\n",
       "    <tr>\n",
       "      <th>killStreaks</th>\n",
       "      <td>1</td>\n",
       "      <td></td>\n",
       "      <td>steam</td>\n",
       "    </tr>\n",
       "    <tr>\n",
       "      <th>kills</th>\n",
       "      <td>6</td>\n",
       "      <td></td>\n",
       "      <td>steam</td>\n",
       "    </tr>\n",
       "    <tr>\n",
       "      <th>longestKill</th>\n",
       "      <td>71.77659</td>\n",
       "      <td></td>\n",
       "      <td>steam</td>\n",
       "    </tr>\n",
       "    <tr>\n",
       "      <th>name</th>\n",
       "      <td>SSABALNOMAA</td>\n",
       "      <td></td>\n",
       "      <td>steam</td>\n",
       "    </tr>\n",
       "    <tr>\n",
       "      <th>playerId</th>\n",
       "      <td>account.481e477272b04a88817cbdaf92a7dc8b</td>\n",
       "      <td></td>\n",
       "      <td>steam</td>\n",
       "    </tr>\n",
       "    <tr>\n",
       "      <th>revives</th>\n",
       "      <td>3</td>\n",
       "      <td></td>\n",
       "      <td>steam</td>\n",
       "    </tr>\n",
       "    <tr>\n",
       "      <th>rideDistance</th>\n",
       "      <td>6953.5312</td>\n",
       "      <td></td>\n",
       "      <td>steam</td>\n",
       "    </tr>\n",
       "    <tr>\n",
       "      <th>roadKills</th>\n",
       "      <td>0</td>\n",
       "      <td></td>\n",
       "      <td>steam</td>\n",
       "    </tr>\n",
       "    <tr>\n",
       "      <th>swimDistance</th>\n",
       "      <td>0</td>\n",
       "      <td></td>\n",
       "      <td>steam</td>\n",
       "    </tr>\n",
       "    <tr>\n",
       "      <th>teamKills</th>\n",
       "      <td>0</td>\n",
       "      <td></td>\n",
       "      <td>steam</td>\n",
       "    </tr>\n",
       "    <tr>\n",
       "      <th>timeSurvived</th>\n",
       "      <td>1523</td>\n",
       "      <td></td>\n",
       "      <td>steam</td>\n",
       "    </tr>\n",
       "    <tr>\n",
       "      <th>vehicleDestroys</th>\n",
       "      <td>0</td>\n",
       "      <td></td>\n",
       "      <td>steam</td>\n",
       "    </tr>\n",
       "    <tr>\n",
       "      <th>walkDistance</th>\n",
       "      <td>2571.6917</td>\n",
       "      <td></td>\n",
       "      <td>steam</td>\n",
       "    </tr>\n",
       "    <tr>\n",
       "      <th>weaponsAcquired</th>\n",
       "      <td>16</td>\n",
       "      <td></td>\n",
       "      <td>steam</td>\n",
       "    </tr>\n",
       "    <tr>\n",
       "      <th>winPlace</th>\n",
       "      <td>1</td>\n",
       "      <td></td>\n",
       "      <td>steam</td>\n",
       "    </tr>\n",
       "  </tbody>\n",
       "</table>\n",
       "</div>"
      ],
      "text/plain": [
       "                                                    stats actor shardId\n",
       "DBNOs                                                   2         steam\n",
       "assists                                                 2         steam\n",
       "boosts                                                 11         steam\n",
       "damageDealt                                       657.676         steam\n",
       "deathType                                           alive         steam\n",
       "headshotKills                                           1         steam\n",
       "heals                                                   7         steam\n",
       "killPlace                                               1         steam\n",
       "killStreaks                                             1         steam\n",
       "kills                                                   6         steam\n",
       "longestKill                                      71.77659         steam\n",
       "name                                          SSABALNOMAA         steam\n",
       "playerId         account.481e477272b04a88817cbdaf92a7dc8b         steam\n",
       "revives                                                 3         steam\n",
       "rideDistance                                    6953.5312         steam\n",
       "roadKills                                               0         steam\n",
       "swimDistance                                            0         steam\n",
       "teamKills                                               0         steam\n",
       "timeSurvived                                         1523         steam\n",
       "vehicleDestroys                                         0         steam\n",
       "walkDistance                                    2571.6917         steam\n",
       "weaponsAcquired                                        16         steam\n",
       "winPlace                                                1         steam"
      ]
     },
     "execution_count": 88,
     "metadata": {},
     "output_type": "execute_result"
    }
   ],
   "source": [
    "matchdf = pd.DataFrame(match['included'])\n",
    "stats_df = pd.DataFrame(matchdf['attributes'][0])\n",
    "stats_df"
   ]
  },
  {
   "cell_type": "markdown",
   "id": "d37a70ce-0827-461d-b671-98fb1cc2c962",
   "metadata": {},
   "source": [
    "Trying to get telemetry data"
   ]
  },
  {
   "cell_type": "code",
   "execution_count": 134,
   "id": "9d6c9500-acb3-4964-ad22-dfe8fc9ab398",
   "metadata": {},
   "outputs": [],
   "source": [
    "#match"
   ]
  },
  {
   "cell_type": "code",
   "execution_count": 87,
   "id": "1bfc27a7-235e-4731-b6c4-7c99af76c1a4",
   "metadata": {},
   "outputs": [
    {
     "data": {
      "text/plain": [
       "{'data': [{'type': 'asset', 'id': '96cb6571-a20a-11ef-ad2c-0ea585c69622'}]}"
      ]
     },
     "execution_count": 87,
     "metadata": {},
     "output_type": "execute_result"
    }
   ],
   "source": [
    "match['data']['relationships']['assets']"
   ]
  },
  {
   "cell_type": "markdown",
   "id": "50614eae-32b3-49ed-8aae-9073efa365bf",
   "metadata": {},
   "source": [
    "I'm currently stuck on how to get a telemetry object from the match dictionary. I'm good up until the point it says to \"search for the telemetry object which has that ID in the included array.\" I have no idea how to do that I'm not sure what they mean by included array"
   ]
  },
  {
   "cell_type": "markdown",
   "id": "6c5e82be-9f29-4d1b-94b7-0fdeabe9d974",
   "metadata": {},
   "source": [
    "![screenshot](Telemetry.png)"
   ]
  },
  {
   "cell_type": "markdown",
   "id": "af0b0ca6-b750-4154-9af9-976229e9f6ff",
   "metadata": {},
   "source": [
    "https://documentation.pubg.com/en/telemetry.html#to-retrieve-telemetry-data"
   ]
  },
  {
   "cell_type": "markdown",
   "id": "b8065a5d-6c4c-4a5e-8f3f-ec5a401d838d",
   "metadata": {},
   "source": [
    "So far I have a decent grasp on how I can get most of my data, but for the real specific stuff I need telemetry data from the matches. I'm gonna need your help with figuring out how to do that at first. Other than that though their API makes sense for the most part, and I should be able to get all the data I need."
   ]
  }
 ],
 "metadata": {
  "kernelspec": {
   "display_name": "Python 3 (ipykernel)",
   "language": "python",
   "name": "python3"
  },
  "language_info": {
   "codemirror_mode": {
    "name": "ipython",
    "version": 3
   },
   "file_extension": ".py",
   "mimetype": "text/x-python",
   "name": "python",
   "nbconvert_exporter": "python",
   "pygments_lexer": "ipython3",
   "version": "3.12.4"
  }
 },
 "nbformat": 4,
 "nbformat_minor": 5
}
