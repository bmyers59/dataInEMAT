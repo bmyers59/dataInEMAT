{
 "cells": [
  {
   "cell_type": "markdown",
   "id": "61a42673-70a1-4423-ad22-eb2c17524124",
   "metadata": {},
   "source": [
    "# Systems Check\n",
    "## Brandon G. Myers\n",
    "### 8/22/2024\n",
    "\n",
    "In this class I want to learn how to find out how to use python to *process and analyze* data from different sources. I want to learn how to use **APIs** to grab data and information.\n",
    "1. This\n",
    "2. a\n",
    "3. list\n",
    "\n",
    "- this\n",
    "- another\n",
    "- list\n",
    "\n",
    "  \n",
    "![large fella](yosh.png)\n",
    "\n",
    "File > Close and Shut Down Notebook\n",
    "File > Shutdown\n",
    "Make a repository and upload this"
   ]
  },
  {
   "cell_type": "code",
   "execution_count": 9,
   "id": "7dab6798-d08e-47fc-a970-4c815251cd35",
   "metadata": {},
   "outputs": [
    {
     "name": "stdout",
     "output_type": "stream",
     "text": [
      "10\n"
     ]
    }
   ],
   "source": [
    "def loopNadd(number):\n",
    "    result = 0;\n",
    "    for i in range(number):\n",
    "        result+=i\n",
    "    return (result)\n",
    "\n",
    "print(loopNadd(5))"
   ]
  },
  {
   "cell_type": "code",
   "execution_count": null,
   "id": "b1a1503b-779d-4fe2-8019-2ee4a23ca051",
   "metadata": {},
   "outputs": [],
   "source": []
  }
 ],
 "metadata": {
  "kernelspec": {
   "display_name": "Python 3 (ipykernel)",
   "language": "python",
   "name": "python3"
  },
  "language_info": {
   "codemirror_mode": {
    "name": "ipython",
    "version": 3
   },
   "file_extension": ".py",
   "mimetype": "text/x-python",
   "name": "python",
   "nbconvert_exporter": "python",
   "pygments_lexer": "ipython3",
   "version": "3.12.4"
  }
 },
 "nbformat": 4,
 "nbformat_minor": 5
}
